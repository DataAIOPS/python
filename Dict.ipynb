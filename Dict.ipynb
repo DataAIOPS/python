{
 "cells": [
  {
   "cell_type": "markdown",
   "metadata": {
    "id": "xZOnVNwS0Tn8"
   },
   "source": [
    "## Dictionary\n",
    "- Dictionary stores the data in key:value pairs\n",
    "- Dictionaries are ordered, changeble, and no duplicates allowed\n",
    "- Dictionary is written in curly brackets <br>\n",
    "dict_1 = {\"Key1\":\"Value1\",\"Key2:Value2\",\"Key3\":\"Value3\"}"
   ]
  },
  {
   "cell_type": "code",
   "execution_count": null,
   "metadata": {
    "colab": {
     "base_uri": "https://localhost:8080/"
    },
    "id": "LBamildB0-Qi",
    "outputId": "6e231035-e697-4c12-9810-3c451c285e19"
   },
   "outputs": [
    {
     "name": "stdout",
     "output_type": "stream",
     "text": [
      "{'Animal': 'Tiger', 'Fruit': 'Apple', 'Flower': 'Rose'}\n"
     ]
    }
   ],
   "source": [
    "# Create a dictionary\n",
    "forest = {\"Animal\":\"Tiger\",\"Fruit\":\"Apple\",\"Flower\":\"Rose\"}\n",
    "print(forest)"
   ]
  },
  {
   "cell_type": "code",
   "execution_count": null,
   "metadata": {
    "colab": {
     "base_uri": "https://localhost:8080/",
     "height": 36
    },
    "id": "_Xi70bHEBJEF",
    "outputId": "a5582fd8-e1c8-4c6b-ed17-c0fa9d347231"
   },
   "outputs": [
    {
     "data": {
      "application/vnd.google.colaboratory.intrinsic+json": {
       "type": "string"
      },
      "text/plain": [
       "'Rose'"
      ]
     },
     "execution_count": 9,
     "metadata": {},
     "output_type": "execute_result"
    }
   ],
   "source": [
    "forest[\"Flower\"]"
   ]
  },
  {
   "cell_type": "markdown",
   "metadata": {
    "id": "2lxyKQfy1TY0"
   },
   "source": [
    "## Access Items\n",
    "- Dictionaries dont have index hence cannot access them using index\n",
    "- However dictionaries have keys hence can be access via keys\n",
    "- Two ways to access dictionary\n",
    "1. Dict[\"Key_Name\"]     - It will throw error if key not present in dict\n",
    "2. Dict.get(\"Key_Name\",\"default_value\") - It will return default_value in case of key not present in dict  \n",
    "`\n"
   ]
  },
  {
   "cell_type": "code",
   "execution_count": null,
   "metadata": {
    "colab": {
     "base_uri": "https://localhost:8080/"
    },
    "id": "k5ypnXmt1Po8",
    "outputId": "a39c3eca-1a29-4698-fed6-f45a81c1d911"
   },
   "outputs": [
    {
     "name": "stdout",
     "output_type": "stream",
     "text": [
      "Apple\n"
     ]
    }
   ],
   "source": [
    "# Print value of Fruit\n",
    "forest = {\"Animal\":\"Tiger\",\"Fruit\":\"Apple\",\"Flower\":\"Rose\"}\n",
    "\n",
    "print(forest[\"Fruit\"])"
   ]
  },
  {
   "cell_type": "code",
   "execution_count": null,
   "metadata": {
    "id": "MnShkV4iCDYs"
   },
   "outputs": [],
   "source": [
    "print(forest[\"River\"])"
   ]
  },
  {
   "cell_type": "code",
   "execution_count": null,
   "metadata": {
    "colab": {
     "base_uri": "https://localhost:8080/"
    },
    "id": "nXKrgbLF2Dyg",
    "outputId": "e52bfeb7-8651-49c5-b557-cae38ebee8ae"
   },
   "outputs": [
    {
     "name": "stdout",
     "output_type": "stream",
     "text": [
      "Apple\n"
     ]
    }
   ],
   "source": [
    "# Or you can use get method as below\n",
    "print(forest.get(\"Fruit\"))"
   ]
  },
  {
   "cell_type": "code",
   "execution_count": null,
   "metadata": {
    "colab": {
     "base_uri": "https://localhost:8080/"
    },
    "id": "pFkommMx2L8W",
    "outputId": "8eea88f8-e68b-4eb8-eb47-e23789775e8a"
   },
   "outputs": [
    {
     "name": "stdout",
     "output_type": "stream",
     "text": [
      "Key not present\n"
     ]
    }
   ],
   "source": [
    "# what if key not present in forest: it will return default key in that case\n",
    "print(forest.get(\"River\",\"Key not present\"))"
   ]
  },
  {
   "cell_type": "markdown",
   "metadata": {
    "id": "JmRfchxs3h1_"
   },
   "source": [
    "## 3 Important Methods\n",
    "1. dict.keys()  - returns the keys of dictionary\n",
    "2. dict.values() - returns the values of dictionary\n",
    "3. dict.items() -  returns the key:value pair in tuple"
   ]
  },
  {
   "cell_type": "code",
   "execution_count": null,
   "metadata": {
    "colab": {
     "base_uri": "https://localhost:8080/"
    },
    "id": "Y2gvaT3n3dzq",
    "outputId": "e640215b-6dc1-4830-f2ec-e1d82c4bb220"
   },
   "outputs": [
    {
     "data": {
      "text/plain": [
       "dict_keys(['Animal', 'Fruit', 'Flower'])"
      ]
     },
     "execution_count": 13,
     "metadata": {},
     "output_type": "execute_result"
    }
   ],
   "source": [
    "# 1. print keys of dictionary\n",
    "forest = {\"Animal\":\"Tiger\",\"Fruit\":\"Apple\",\"Flower\":\"Rose\"}\n",
    "\n",
    "forest.keys()"
   ]
  },
  {
   "cell_type": "code",
   "execution_count": null,
   "metadata": {
    "colab": {
     "base_uri": "https://localhost:8080/"
    },
    "id": "1KVbH5wU4dzd",
    "outputId": "3cb6b6ee-f86f-4d4f-ebf1-74c4c708df8d"
   },
   "outputs": [
    {
     "data": {
      "text/plain": [
       "dict_values(['Tiger', 'Apple', 'Rose'])"
      ]
     },
     "execution_count": 14,
     "metadata": {},
     "output_type": "execute_result"
    }
   ],
   "source": [
    "# 2. print values of dictionary\n",
    "forest = {\"Animal\":\"Tiger\",\"Fruit\":\"Apple\",\"Flower\":\"Rose\"}\n",
    "\n",
    "forest.values()"
   ]
  },
  {
   "cell_type": "code",
   "execution_count": null,
   "metadata": {
    "colab": {
     "base_uri": "https://localhost:8080/"
    },
    "id": "7HttVgtn4jTc",
    "outputId": "3d661584-aa36-4713-dbe1-f0fe3d98d9b3"
   },
   "outputs": [
    {
     "data": {
      "text/plain": [
       "dict_items([('Animal', 'Tiger'), ('Fruit', 'Apple'), ('Flower', 'Rose')])"
      ]
     },
     "execution_count": 15,
     "metadata": {},
     "output_type": "execute_result"
    }
   ],
   "source": [
    "# 3. print items of dictionary\n",
    "forest = {\"Animal\":\"Tiger\",\"Fruit\":\"Apple\",\"Flower\":\"Rose\"}\n",
    "\n",
    "forest.items()"
   ]
  },
  {
   "cell_type": "markdown",
   "metadata": {
    "id": "y2z80tHp4xrO"
   },
   "source": [
    "## Change/Add Itmes\n",
    "\n",
    "- dict[\"key\"]=\"new_value\" : Change value of key\n",
    "- if key is not present in dict already then it will create new key:value pair\n",
    "- dict.update() : to add multiple element"
   ]
  },
  {
   "cell_type": "code",
   "execution_count": null,
   "metadata": {
    "colab": {
     "base_uri": "https://localhost:8080/"
    },
    "id": "GC015WK34qfT",
    "outputId": "3e405387-c385-4eeb-cbfe-ac7d9d6a31f8"
   },
   "outputs": [
    {
     "name": "stdout",
     "output_type": "stream",
     "text": [
      "{'Animal': 'Lion', 'Fruit': 'Apple', 'Flower': 'Rose'}\n"
     ]
    }
   ],
   "source": [
    "# Change Tiger to Lion in Animal key\n",
    "forest = {\"Animal\":\"Tiger\",\"Fruit\":\"Apple\",\"Flower\":\"Rose\"}\n",
    "\n",
    "forest[\"Animal\"] = \"Lion\"\n",
    "\n",
    "print(forest)"
   ]
  },
  {
   "cell_type": "code",
   "execution_count": null,
   "metadata": {
    "colab": {
     "base_uri": "https://localhost:8080/"
    },
    "id": "PaJ_b8-f6RiP",
    "outputId": "295f3e43-9e64-4455-9eee-598a9e5052c7"
   },
   "outputs": [
    {
     "name": "stdout",
     "output_type": "stream",
     "text": [
      "{'Animal': 'Tiger', 'Fruit': 'Apple', 'Flower': 'Rose', 'River': 'Ganga'}\n"
     ]
    }
   ],
   "source": [
    "# Add new key:value pair of \"River\":\"Ganga\"\n",
    "forest = {\"Animal\":\"Tiger\",\"Fruit\":\"Apple\",\"Flower\":\"Rose\"}\n",
    "\n",
    "forest[\"River\"] = \"Ganga\"\n",
    "\n",
    "print(forest)"
   ]
  },
  {
   "cell_type": "code",
   "execution_count": null,
   "metadata": {
    "colab": {
     "base_uri": "https://localhost:8080/"
    },
    "id": "s_5uDQ635wm7",
    "outputId": "c6ef3b13-ed23-414d-9404-c5276197bc8b"
   },
   "outputs": [
    {
     "name": "stdout",
     "output_type": "stream",
     "text": [
      "{'Animal': 'Tiger', 'Fruit': 'Mango', 'Flower': 'Lotus', 'River': 'Tapi'}\n"
     ]
    }
   ],
   "source": [
    "# Change Apple to Mango and Rose to Lotus in Fruit and Flower keys respectively\n",
    "forest = {\"Animal\":\"Tiger\",\"Fruit\":\"Apple\",\"Flower\":\"Rose\"}\n",
    "\n",
    "forest.update({\"Fruit\":\"Mango\",\"Flower\":\"Lotus\",\"River\":\"Tapi\"})\n",
    "\n",
    "print(forest)"
   ]
  },
  {
   "cell_type": "markdown",
   "metadata": {
    "id": "YTMpwhDI6kUw"
   },
   "source": [
    "## Remove items\n",
    "1. pop(\"key\") : pass key to remove it\n",
    "2. del dict[\"key\"] : pass key to delet it\n",
    "3. clear() : it will empties the dictionary"
   ]
  },
  {
   "cell_type": "code",
   "execution_count": null,
   "metadata": {
    "colab": {
     "base_uri": "https://localhost:8080/"
    },
    "id": "NOfDqRss6v_U",
    "outputId": "21696dbc-e4db-4dff-8a6c-45587f75a56d"
   },
   "outputs": [
    {
     "name": "stdout",
     "output_type": "stream",
     "text": [
      "{'Fruit': 'Apple', 'Flower': 'Rose'}\n"
     ]
    }
   ],
   "source": [
    "#1.Remove Animal key using pop\n",
    "forest = {\"Animal\":\"Tiger\",\"Fruit\":\"Apple\",\"Flower\":\"Rose\"}\n",
    "\n",
    "forest.pop(\"Animal\")\n",
    "\n",
    "print(forest)"
   ]
  },
  {
   "cell_type": "code",
   "execution_count": null,
   "metadata": {
    "colab": {
     "base_uri": "https://localhost:8080/"
    },
    "id": "dujb95Yn7c2Q",
    "outputId": "1977bc51-01a1-46c1-a927-331ca2892816"
   },
   "outputs": [
    {
     "name": "stdout",
     "output_type": "stream",
     "text": [
      "{'Animal': 'Tiger', 'Flower': 'Rose'}\n"
     ]
    }
   ],
   "source": [
    "# 2. remove Fruit key using del\n",
    "forest = {\"Animal\":\"Tiger\",\"Fruit\":\"Apple\",\"Flower\":\"Rose\"}\n",
    "\n",
    "del forest[\"Fruit\"]\n",
    "\n",
    "print(forest)"
   ]
  },
  {
   "cell_type": "code",
   "execution_count": null,
   "metadata": {
    "colab": {
     "base_uri": "https://localhost:8080/"
    },
    "id": "pQw1VEef7xhJ",
    "outputId": "bfefa6b9-6a0f-4643-f0cf-3d9068c50953"
   },
   "outputs": [
    {
     "name": "stdout",
     "output_type": "stream",
     "text": [
      "{}\n"
     ]
    }
   ],
   "source": [
    "# 3. clear dictionary\n",
    "forest = {\"Animal\":\"Tiger\",\"Fruit\":\"Apple\",\"Flower\":\"Rose\"}\n",
    "\n",
    "forest.clear()\n",
    "\n",
    "print(forest)"
   ]
  },
  {
   "cell_type": "markdown",
   "metadata": {
    "id": "PyVSmzea78V8"
   },
   "source": [
    "## For loop"
   ]
  },
  {
   "cell_type": "code",
   "execution_count": null,
   "metadata": {
    "colab": {
     "base_uri": "https://localhost:8080/"
    },
    "id": "ThAIZM2p8Ea2",
    "outputId": "f5afa008-632b-4534-c57e-7afef46dfb8d"
   },
   "outputs": [
    {
     "name": "stdout",
     "output_type": "stream",
     "text": [
      "Animal\n",
      "Fruit\n",
      "Flower\n"
     ]
    }
   ],
   "source": [
    "# print keys of forest\n",
    "forest = {\"Animal\":\"Tiger\",\"Fruit\":\"Apple\",\"Flower\":\"Rose\"}\n",
    "for key in forest.keys():\n",
    "  print(key)"
   ]
  },
  {
   "cell_type": "code",
   "execution_count": null,
   "metadata": {
    "colab": {
     "base_uri": "https://localhost:8080/"
    },
    "id": "lRVQhw9C8Mqg",
    "outputId": "935fe9ec-98e1-4864-f04f-41df992cc631"
   },
   "outputs": [
    {
     "name": "stdout",
     "output_type": "stream",
     "text": [
      "Tiger\n",
      "Apple\n",
      "Rose\n"
     ]
    }
   ],
   "source": [
    "# print values of forest\n",
    "for value in forest.values():\n",
    "  print(value)"
   ]
  },
  {
   "cell_type": "code",
   "execution_count": null,
   "metadata": {
    "colab": {
     "base_uri": "https://localhost:8080/"
    },
    "id": "S9Nqe1tX8TdT",
    "outputId": "908a7850-1ed5-4e44-db3f-d9254dc042de"
   },
   "outputs": [
    {
     "name": "stdout",
     "output_type": "stream",
     "text": [
      "Animal Tiger\n",
      "Fruit Apple\n",
      "Flower Rose\n"
     ]
    }
   ],
   "source": [
    "# print key value pair in forest\n",
    "for key, value in forest.items():\n",
    "  print(key, value) "
   ]
  },
  {
   "cell_type": "markdown",
   "metadata": {
    "id": "71sfAFH08dhz"
   },
   "source": [
    "## Dictionary Methods\n",
    "1. keys() : returns keys in list form\n",
    "2. values() : returns values in list form\n",
    "3. items() : returns key, value pair in list of tuples\n",
    "4. pop() : removes key from dict\n",
    "5. clear() : empties the dicti\n",
    "6. get() : returns the value of key if present, else returns default value\n",
    "7. update() : add multiple key:value pairs\n"
   ]
  },
  {
   "cell_type": "code",
   "execution_count": 2,
   "metadata": {},
   "outputs": [
    {
     "name": "stdout",
     "output_type": "stream",
     "text": [
      "1\n",
      "2\n",
      "3\n",
      "4\n",
      "5\n"
     ]
    }
   ],
   "source": []
  },
  {
   "cell_type": "code",
   "execution_count": null,
   "metadata": {},
   "outputs": [],
   "source": []
  }
 ],
 "metadata": {
  "colab": {
   "provenance": []
  },
  "kernelspec": {
   "display_name": "Python 3 (ipykernel)",
   "language": "python",
   "name": "python3"
  },
  "language_info": {
   "codemirror_mode": {
    "name": "ipython",
    "version": 3
   },
   "file_extension": ".py",
   "mimetype": "text/x-python",
   "name": "python",
   "nbconvert_exporter": "python",
   "pygments_lexer": "ipython3",
   "version": "3.11.5"
  }
 },
 "nbformat": 4,
 "nbformat_minor": 1
}
