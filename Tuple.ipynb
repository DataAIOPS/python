{
 "cells": [
  {
   "cell_type": "markdown",
   "metadata": {
    "id": "rFL2kkaRmcap"
   },
   "source": [
    "## Tuple\n",
    "\n",
    "- Tuples are also used to store multiple values in single variable\n",
    "- Tuples are created using round brackets\n",
    "- Tuples items are ordered and <b>unchangeable</b>\n",
    "- <b>Unchangeable meaning cannnot change, add or remove items</b>\n",
    "- Set is also Unchangeble means you cannot change item value but you add or remove items"
   ]
  },
  {
   "cell_type": "code",
   "execution_count": null,
   "metadata": {
    "colab": {
     "base_uri": "https://localhost:8080/"
    },
    "id": "1CCfzwoDmfzF",
    "outputId": "e88d900e-fae5-4ff2-edcf-ff609c2b6004"
   },
   "outputs": [
    {
     "name": "stdout",
     "output_type": "stream",
     "text": [
      "('Elephant', 'Lion', 'Camel', 'Tiger')\n"
     ]
    }
   ],
   "source": [
    "# Creating a tuple of animals\n",
    "animals = (\"Elephant\",\"Lion\",\"Camel\",\"Tiger\")\n",
    "print(animals)"
   ]
  },
  {
   "cell_type": "code",
   "execution_count": 1,
   "metadata": {
    "colab": {
     "base_uri": "https://localhost:8080/"
    },
    "id": "y4i5CtW-n4JB",
    "outputId": "29b3e788-ee41-4ab0-e16a-0f6f1bf9c4f3"
   },
   "outputs": [
    {
     "name": "stdout",
     "output_type": "stream",
     "text": [
      "Elephant\n",
      "<class 'str'>\n"
     ]
    }
   ],
   "source": [
    "# Create a tuple with one item\n",
    "animals = (\"Elephant\")\n",
    "print(animals)\n",
    "print(type(animals))"
   ]
  },
  {
   "cell_type": "code",
   "execution_count": 3,
   "metadata": {
    "colab": {
     "base_uri": "https://localhost:8080/"
    },
    "id": "aSRtkhVMn9kd",
    "outputId": "ac93d258-44ca-4c0d-f6a6-ab2e7c89adca"
   },
   "outputs": [
    {
     "name": "stdout",
     "output_type": "stream",
     "text": [
      "('Elephant',)\n",
      "<class 'tuple'>\n"
     ]
    }
   ],
   "source": [
    "# One item tuple should be created with comma at last\n",
    "animals = (\"Elephant\",)\n",
    "print(animals)\n",
    "print(type(animals))"
   ]
  },
  {
   "cell_type": "markdown",
   "metadata": {
    "id": "GNYmAVKQndt4"
   },
   "source": [
    "## Access Tuple Items\n",
    "- Tuple items are indexed hence can access them by referring to the index number.\n",
    "- Tuple items are given an index which will start from 0 for first item or negative index will start from -1 from last item"
   ]
  },
  {
   "cell_type": "code",
   "execution_count": null,
   "metadata": {
    "colab": {
     "base_uri": "https://localhost:8080/"
    },
    "id": "5FMJvm80nUqC",
    "outputId": "92773444-1204-459a-b93f-fbc9cca3751b"
   },
   "outputs": [
    {
     "name": "stdout",
     "output_type": "stream",
     "text": [
      "Lion\n"
     ]
    }
   ],
   "source": [
    "# Print second item of tuple\n",
    "animals = (\"Elephant\",\"Lion\",\"Camel\",\"Tiger\")\n",
    "print(animals[1])"
   ]
  },
  {
   "cell_type": "code",
   "execution_count": null,
   "metadata": {
    "colab": {
     "base_uri": "https://localhost:8080/"
    },
    "id": "2X8iWulHo9S5",
    "outputId": "e99ad9d4-820a-4345-f0b4-45b3e2ede411"
   },
   "outputs": [
    {
     "name": "stdout",
     "output_type": "stream",
     "text": [
      "Tiger\n"
     ]
    }
   ],
   "source": [
    "# Print last item of tuple\n",
    "animals = (\"Elephant\",\"Lion\",\"Camel\",\"Tiger\")\n",
    "print(animals[-1])"
   ]
  },
  {
   "cell_type": "code",
   "execution_count": null,
   "metadata": {
    "colab": {
     "base_uri": "https://localhost:8080/"
    },
    "id": "5mJOk5ECpCQ2",
    "outputId": "45d28541-51d9-420e-ab50-416a24bf7e1c"
   },
   "outputs": [
    {
     "name": "stdout",
     "output_type": "stream",
     "text": [
      "('Elephant', 'Lion', 'Camel')\n"
     ]
    }
   ],
   "source": [
    "# Print first 3 items of tuples\n",
    "animals = (\"Elephant\",\"Lion\",\"Camel\",\"Tiger\")\n",
    "print(animals[0:3])"
   ]
  },
  {
   "cell_type": "code",
   "execution_count": null,
   "metadata": {
    "colab": {
     "base_uri": "https://localhost:8080/"
    },
    "id": "S15Hmw9tpFgw",
    "outputId": "8bd226cf-1ef6-467c-d0fe-cb88d2843f2c"
   },
   "outputs": [
    {
     "name": "stdout",
     "output_type": "stream",
     "text": [
      "('Elephant', 'Lion', 'Camel')\n"
     ]
    }
   ],
   "source": [
    "# Start From 0 by Default\n",
    "animals = (\"Elephant\",\"Lion\",\"Camel\",\"Tiger\")\n",
    "print(animals[:3])"
   ]
  },
  {
   "cell_type": "code",
   "execution_count": null,
   "metadata": {
    "colab": {
     "base_uri": "https://localhost:8080/"
    },
    "id": "7tyDn_XBpISI",
    "outputId": "c7d5b39d-55e9-4c94-ef31-cf1802068d78"
   },
   "outputs": [
    {
     "name": "stdout",
     "output_type": "stream",
     "text": [
      "('Camel', 'Tiger')\n"
     ]
    }
   ],
   "source": [
    "# End to -1 by Default\n",
    "animals = (\"Elephant\",\"Lion\",\"Camel\",\"Tiger\")\n",
    "print(animals[2:])"
   ]
  },
  {
   "cell_type": "markdown",
   "metadata": {
    "id": "KOtaAuy0pQRb"
   },
   "source": [
    "## Change Item Value\n",
    "- Tuples are unchangeable, or immutable\n",
    "- Hence you cannot add, remove or change items\n",
    "- But you can convert tuple to list and change/add/remove item of list and again convert it into tuple"
   ]
  },
  {
   "cell_type": "code",
   "execution_count": null,
   "metadata": {
    "colab": {
     "base_uri": "https://localhost:8080/"
    },
    "id": "K2o_QL0Jpi4G",
    "outputId": "b014b050-d5dc-4e1c-a900-1661e1d11247"
   },
   "outputs": [
    {
     "name": "stdout",
     "output_type": "stream",
     "text": [
      "animals before change= ('Elephant', 'Lion', 'Camel', 'Tiger')\n",
      "Animals in list= ['Elephant', 'Lion', 'Camel', 'Tiger']\n",
      "animals after change= ('Elephant', 'Zebra', 'Camel', 'Tiger')\n"
     ]
    }
   ],
   "source": [
    "# change \"Lion\" to \"Zebra\"\n",
    "animals = (\"Elephant\",\"Lion\",\"Camel\",\"Tiger\")\n",
    "print(\"animals before change=\", animals)\n",
    "\n",
    "# convet tuple to list\n",
    "animals_list = list(animals)\n",
    "print(\"Animals in list=\", animals_list)\n",
    "\n",
    "# change list values\n",
    "animals_list[1] = \"Zebra\"\n",
    "\n",
    "# convet list to tuple\n",
    "animals = tuple(animals_list)\n",
    "\n",
    "# check if tuple changed\n",
    "print(\"animals after change=\", animals)\n",
    "\n",
    "\n"
   ]
  },
  {
   "cell_type": "markdown",
   "metadata": {
    "id": "pW7R7cREqrec"
   },
   "source": [
    "## Remove items\n",
    "\n",
    "- You cannot remove tuple items hence no clear() or remove() or pop() method allowed\n",
    "- But you can delete tuple completly using <b>del</b> keyword"
   ]
  },
  {
   "cell_type": "code",
   "execution_count": 4,
   "metadata": {
    "colab": {
     "base_uri": "https://localhost:8080/",
     "height": 176
    },
    "collapsed": true,
    "id": "tXU3-IGjp1eB",
    "outputId": "00287f47-4842-4fa0-a39a-7accc29962ae"
   },
   "outputs": [
    {
     "ename": "NameError",
     "evalue": "name 'animals' is not defined",
     "output_type": "error",
     "traceback": [
      "\u001b[0;31m---------------------------------------------------------------------------\u001b[0m",
      "\u001b[0;31mNameError\u001b[0m                                 Traceback (most recent call last)",
      "\u001b[0;32m<ipython-input-4-7122eff823aa>\u001b[0m in \u001b[0;36m<cell line: 6>\u001b[0;34m()\u001b[0m\n\u001b[1;32m      4\u001b[0m \u001b[0;32mdel\u001b[0m \u001b[0manimals\u001b[0m\u001b[0;34m\u001b[0m\u001b[0;34m\u001b[0m\u001b[0m\n\u001b[1;32m      5\u001b[0m \u001b[0;34m\u001b[0m\u001b[0m\n\u001b[0;32m----> 6\u001b[0;31m \u001b[0mprint\u001b[0m\u001b[0;34m(\u001b[0m\u001b[0manimals\u001b[0m\u001b[0;34m)\u001b[0m \u001b[0;31m# if will get error \"NameError: name 'animals' is not defined\" means everything is correct\u001b[0m\u001b[0;34m\u001b[0m\u001b[0;34m\u001b[0m\u001b[0m\n\u001b[0m",
      "\u001b[0;31mNameError\u001b[0m: name 'animals' is not defined"
     ]
    }
   ],
   "source": [
    "# delete tuple completely\n",
    "animals = (\"Elephant\",\"Lion\",\"Camel\",\"Tiger\")\n",
    "\n",
    "del animals\n",
    "\n",
    "print(animals) # if will get error \"NameError: name 'animals' is not defined\" means everything is correct"
   ]
  },
  {
   "cell_type": "markdown",
   "metadata": {
    "id": "D-Z_46xIraDG"
   },
   "source": [
    "## Tuple methods\n",
    "\n",
    "#### 1. count()\t: return the count of specified element"
   ]
  },
  {
   "cell_type": "code",
   "execution_count": null,
   "metadata": {
    "colab": {
     "base_uri": "https://localhost:8080/"
    },
    "id": "BMllyC9Csa54",
    "outputId": "795bb64a-ccbc-4fe0-bf2e-0354db60141c"
   },
   "outputs": [
    {
     "name": "stdout",
     "output_type": "stream",
     "text": [
      "3\n"
     ]
    }
   ],
   "source": [
    "animals = (\"Elephant\",\"Lion\",\"Lion\",\"Lion\",\"Camel\",\"Tiger\")\n",
    "print(animals.count(\"Lion\"))"
   ]
  },
  {
   "cell_type": "markdown",
   "metadata": {
    "id": "i-KywDHnsk0m"
   },
   "source": [
    "<h4> 2. index()\t: return the index of specific items\n"
   ]
  },
  {
   "cell_type": "code",
   "execution_count": null,
   "metadata": {
    "colab": {
     "base_uri": "https://localhost:8080/"
    },
    "id": "sLpnkDudsi9z",
    "outputId": "a6acad2a-fa8c-48f5-dbbf-12f76aa93e7f"
   },
   "outputs": [
    {
     "name": "stdout",
     "output_type": "stream",
     "text": [
      "2\n"
     ]
    }
   ],
   "source": [
    "animals = (\"Elephant\",\"Lion\",\"Camel\",\"Tiger\")\n",
    "print(animals.index(\"Camel\"))"
   ]
  },
  {
   "cell_type": "markdown",
   "metadata": {
    "id": "bDwgAdEcwOUo"
   },
   "source": [
    "# Exercise"
   ]
  },
  {
   "cell_type": "markdown",
   "metadata": {
    "id": "lazBI8nfwVvw"
   },
   "source": [
    "##### 1. Print the count of Apple\n"
   ]
  },
  {
   "cell_type": "code",
   "execution_count": null,
   "metadata": {
    "colab": {
     "base_uri": "https://localhost:8080/"
    },
    "id": "dmUhxBWmwPXL",
    "outputId": "942bd757-6c11-4592-8e73-78992def775a"
   },
   "outputs": [
    {
     "name": "stdout",
     "output_type": "stream",
     "text": [
      "2\n"
     ]
    }
   ],
   "source": [
    "fruits = (\"Apple\",\"Apple\",\"Banana\",\"Cherry\")\n",
    "print(fruits.count(\"Apple\"))"
   ]
  },
  {
   "cell_type": "markdown",
   "metadata": {
    "id": "Ju8FVoLHw9IK"
   },
   "source": [
    "##### 2. Print the indexof Banana"
   ]
  },
  {
   "cell_type": "code",
   "execution_count": null,
   "metadata": {
    "colab": {
     "base_uri": "https://localhost:8080/"
    },
    "id": "lwH2rLIqxBVg",
    "outputId": "52bde68c-764b-455f-8489-490da2ad8fc5"
   },
   "outputs": [
    {
     "name": "stdout",
     "output_type": "stream",
     "text": [
      "1\n"
     ]
    }
   ],
   "source": [
    "fruits =(\"Apple\",\"Banana\",\"Cherry\")\n",
    "print(fruits.index(\"Banana\"))"
   ]
  }
 ],
 "metadata": {
  "colab": {
   "collapsed_sections": [
    "rFL2kkaRmcap",
    "GNYmAVKQndt4",
    "KOtaAuy0pQRb",
    "pW7R7cREqrec",
    "D-Z_46xIraDG",
    "i-KywDHnsk0m",
    "bDwgAdEcwOUo"
   ],
   "provenance": []
  },
  "kernelspec": {
   "display_name": "Python 3 (ipykernel)",
   "language": "python",
   "name": "python3"
  },
  "language_info": {
   "codemirror_mode": {
    "name": "ipython",
    "version": 3
   },
   "file_extension": ".py",
   "mimetype": "text/x-python",
   "name": "python",
   "nbconvert_exporter": "python",
   "pygments_lexer": "ipython3",
   "version": "3.11.5"
  }
 },
 "nbformat": 4,
 "nbformat_minor": 1
}
