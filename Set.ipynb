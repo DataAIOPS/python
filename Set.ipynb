{
 "cells": [
  {
   "cell_type": "markdown",
   "metadata": {
    "id": "zJnTM5AvFQKq"
   },
   "source": [
    "## Sets\n",
    "- Sets are used to store multiple items in a single variable.\n",
    "- Sets are unordered, unchangeable(cannot remove/change items but can add it) and unindexed.\n",
    "- <b>Duplicates Not Allowed</b>\n",
    "\n",
    "- Sets are written in curly brackets\n",
    "set_1 = {\"Apple\",100,\"Tiger\",20.50,True}\n"
   ]
  },
  {
   "cell_type": "code",
   "execution_count": null,
   "metadata": {
    "colab": {
     "base_uri": "https://localhost:8080/"
    },
    "id": "mNg1m_VlFrck",
    "outputId": "2f7810f7-9fc1-42fe-8323-00e49f3893a7"
   },
   "outputs": [
    {
     "name": "stdout",
     "output_type": "stream",
     "text": [
      "{True, 100, 'Apple', 20.5, 'Tiger'}\n"
     ]
    }
   ],
   "source": [
    "# Create a set : You can see set are unordered hence order changed while printing\n",
    "set_1 = {\"Apple\",100,\"Tiger\",20.50,True}\n",
    "print(set_1)"
   ]
  },
  {
   "cell_type": "code",
   "execution_count": null,
   "metadata": {
    "colab": {
     "base_uri": "https://localhost:8080/"
    },
    "id": "jedYBtGHF0A1",
    "outputId": "b46332b2-0bbc-493e-b4c1-cec3d8ed4ecc"
   },
   "outputs": [
    {
     "name": "stdout",
     "output_type": "stream",
     "text": [
      "{'apple', 'banana', 'cherry'}\n"
     ]
    }
   ],
   "source": [
    "# Duplicates Not Allowed\n",
    "fruits = {\"apple\", \"banana\", \"cherry\", \"apple\"}\n",
    "\n",
    "print(fruits)"
   ]
  },
  {
   "cell_type": "markdown",
   "metadata": {
    "id": "f_QVdHADGRsk"
   },
   "source": [
    "## Access Items\n",
    "- Since sets are unordered hence cannot access them using index\n",
    "- You can only access items using for-loop"
   ]
  },
  {
   "cell_type": "code",
   "execution_count": null,
   "metadata": {
    "colab": {
     "base_uri": "https://localhost:8080/"
    },
    "id": "AROWcA-CGchg",
    "outputId": "ae4a3334-a323-4d8c-ce6a-0d480eadef84"
   },
   "outputs": [
    {
     "name": "stdout",
     "output_type": "stream",
     "text": [
      "apple\n",
      "banana\n",
      "cherry\n"
     ]
    }
   ],
   "source": [
    "fruits = {\"apple\", \"banana\", \"cherry\", \"apple\"}\n",
    "for item in fruits:\n",
    "  print(item)"
   ]
  },
  {
   "cell_type": "markdown",
   "metadata": {
    "id": "9I-Hkq9FHYzR"
   },
   "source": [
    "## Change/remove Items\n",
    "- Set are unchangeble hence cannot add, remove or change items"
   ]
  },
  {
   "cell_type": "markdown",
   "metadata": {
    "id": "ENHsEzyJHi2M"
   },
   "source": [
    "## Add item\n",
    "- 1. add() : to add one item\n",
    "- 2. update() : to add multiple items: You can list, set, or tuple\n"
   ]
  },
  {
   "cell_type": "code",
   "execution_count": null,
   "metadata": {
    "colab": {
     "base_uri": "https://localhost:8080/"
    },
    "id": "XjFqUyJZH7r5",
    "outputId": "ac989b8b-7961-42ba-f3f9-2fe688d3a79c"
   },
   "outputs": [
    {
     "name": "stdout",
     "output_type": "stream",
     "text": [
      "{'apple', 'Mango', 'banana', 'cherry'}\n"
     ]
    }
   ],
   "source": [
    "# 1. add mango to fruits\n",
    "fruits = {\"apple\", \"banana\", \"cherry\", \"apple\"}\n",
    "\n",
    "fruits.add(\"Mango\")\n",
    "\n",
    "print(fruits)"
   ]
  },
  {
   "cell_type": "code",
   "execution_count": null,
   "metadata": {
    "colab": {
     "base_uri": "https://localhost:8080/"
    },
    "id": "na3wZO12IFZQ",
    "outputId": "ba548e83-2a51-4752-b42a-fd7399377d7f"
   },
   "outputs": [
    {
     "name": "stdout",
     "output_type": "stream",
     "text": [
      "{'Pineapple', 'banana', 'apple', 'Mango', 'cherry'}\n"
     ]
    }
   ],
   "source": [
    "# 2. Add Mango, Pineapple\n",
    "fruits = {\"apple\", \"banana\", \"cherry\", \"apple\"}\n",
    "\n",
    "fruits.update({\"Mango\",\"Pineapple\"})\n",
    "\n",
    "print(fruits)"
   ]
  },
  {
   "cell_type": "markdown",
   "metadata": {
    "id": "llP6Q3qLS8yC"
   },
   "source": [
    "## Remove item\n",
    "1. remove() : It will throw error if item not in set\n",
    "2. discard() : It will not thrown error if item not in set\n",
    "3. pop() : It will remove element any random item\n",
    "4. clear() : It will empty set"
   ]
  },
  {
   "cell_type": "code",
   "execution_count": null,
   "metadata": {
    "colab": {
     "base_uri": "https://localhost:8080/"
    },
    "id": "d_1BRasuTVmE",
    "outputId": "9f69abf3-be95-4ed3-ab72-f71ef79bbc5f"
   },
   "outputs": [
    {
     "data": {
      "text/plain": [
       "{'banana', 'cherry'}"
      ]
     },
     "execution_count": 7,
     "metadata": {},
     "output_type": "execute_result"
    }
   ],
   "source": [
    "# remove apple using remove()\n",
    "fruits = {\"apple\", \"banana\", \"cherry\"}\n",
    "\n",
    "fruits.remove(\"apple\")\n",
    "\n",
    "fruits"
   ]
  },
  {
   "cell_type": "code",
   "execution_count": null,
   "metadata": {
    "id": "HRK9mCftTdFY"
   },
   "outputs": [],
   "source": [
    "# remove mango using remove(): it will thrown error because mango it not there\n",
    "fruits = {\"apple\", \"banana\", \"cherry\"}\n",
    "\n",
    "fruits.remove(\"Mango\")\n",
    "\n",
    "fruits"
   ]
  },
  {
   "cell_type": "code",
   "execution_count": null,
   "metadata": {
    "colab": {
     "base_uri": "https://localhost:8080/"
    },
    "id": "Z0vhh1QvVDeP",
    "outputId": "f02357ba-051d-4055-cbb9-908d8ab532f8"
   },
   "outputs": [
    {
     "data": {
      "text/plain": [
       "{'apple', 'banana', 'cherry'}"
      ]
     },
     "execution_count": 2,
     "metadata": {},
     "output_type": "execute_result"
    }
   ],
   "source": [
    "# remove mango using discard: it will remove mango if present otherwise it will not throw error\n",
    "fruits = {\"apple\", \"banana\", \"cherry\"}\n",
    "\n",
    "fruits.discard(\"mango\")\n",
    "\n",
    "fruits"
   ]
  },
  {
   "cell_type": "code",
   "execution_count": null,
   "metadata": {
    "colab": {
     "base_uri": "https://localhost:8080/"
    },
    "id": "Yv0IMMoEVLcj",
    "outputId": "ad3e5f59-743c-4ff2-b122-a0b4ffc11f81"
   },
   "outputs": [
    {
     "data": {
      "text/plain": [
       "{'apple', 'cherry'}"
      ]
     },
     "execution_count": 3,
     "metadata": {},
     "output_type": "execute_result"
    }
   ],
   "source": [
    "# pop() wil remove any random item\n",
    "fruits = {\"apple\", \"banana\", \"cherry\"}\n",
    "\n",
    "fruits.pop()\n",
    "\n",
    "fruits"
   ]
  },
  {
   "cell_type": "code",
   "execution_count": null,
   "metadata": {
    "colab": {
     "base_uri": "https://localhost:8080/"
    },
    "id": "ds_0_YwGVgRT",
    "outputId": "6a324a75-15bd-4eb7-f5ea-7e6f91cd5ae5"
   },
   "outputs": [
    {
     "data": {
      "text/plain": [
       "set()"
      ]
     },
     "execution_count": 4,
     "metadata": {},
     "output_type": "execute_result"
    }
   ],
   "source": [
    "# clear a entire set\n",
    "fruits = {\"apple\", \"banana\", \"cherry\"}\n",
    "\n",
    "fruits.clear()\n",
    "\n",
    "fruits"
   ]
  },
  {
   "cell_type": "markdown",
   "metadata": {
    "id": "V9WoOqijWE5A"
   },
   "source": [
    "## Set Methods\n",
    "1. add() : Adds an element to the set\n",
    "2. update() : Add multiple elements as a time\n",
    "3. remove()\t: Removes the specified element, throw error if not present\n",
    "3. discard() :\tRemove the specified element, dont throw error if not present\n",
    "4. clear() : remove all elements from set\n",
    "5. pop() : remove any random element\n",
    "6. union() : Return a set containing the union of sets\n",
    "7. intersection()\t: Returns a set, that is the intersection of two other sets\n",
    "8. difference() :\tReturns a set containing the difference between two or more sets\n"
   ]
  },
  {
   "cell_type": "code",
   "execution_count": null,
   "metadata": {
    "colab": {
     "base_uri": "https://localhost:8080/"
    },
    "id": "KyOd32SeVs5e",
    "outputId": "02245374-63b4-471c-83aa-8bacb422cb65"
   },
   "outputs": [
    {
     "name": "stdout",
     "output_type": "stream",
     "text": [
      "{'banana', 'apple', 'microsoft', 'google', 'cherry'}\n"
     ]
    }
   ],
   "source": [
    "# Union\n",
    "x = {\"apple\", \"banana\", \"cherry\"}\n",
    "y = {\"google\", \"microsoft\", \"apple\"}\n",
    "\n",
    "z = x.union(y)\n",
    "\n",
    "print(z)"
   ]
  },
  {
   "cell_type": "code",
   "execution_count": null,
   "metadata": {
    "colab": {
     "base_uri": "https://localhost:8080/"
    },
    "id": "WkbjBtjgXLc8",
    "outputId": "5f4e6ea1-eddb-4bae-cc87-6dcfd00aaa92"
   },
   "outputs": [
    {
     "name": "stdout",
     "output_type": "stream",
     "text": [
      "{'apple'}\n"
     ]
    }
   ],
   "source": [
    "# intersection\n",
    "x = {\"apple\", \"banana\", \"cherry\"}\n",
    "y = {\"google\", \"microsoft\", \"apple\"}\n",
    "\n",
    "z = x.intersection(y)\n",
    "\n",
    "print(z)"
   ]
  },
  {
   "cell_type": "code",
   "execution_count": null,
   "metadata": {
    "colab": {
     "base_uri": "https://localhost:8080/"
    },
    "id": "W1m3xokIXQ0E",
    "outputId": "22934bbb-30b7-445e-a307-4c88ee6ae860"
   },
   "outputs": [
    {
     "name": "stdout",
     "output_type": "stream",
     "text": [
      "{'banana', 'cherry'}\n"
     ]
    }
   ],
   "source": [
    "# difference\n",
    "x = {\"apple\", \"banana\", \"cherry\"}\n",
    "y = {\"google\", \"microsoft\", \"apple\"}\n",
    "\n",
    "z = x.difference(y)\n",
    "\n",
    "print(z)"
   ]
  }
 ],
 "metadata": {
  "colab": {
   "provenance": []
  },
  "kernelspec": {
   "display_name": "Python 3 (ipykernel)",
   "language": "python",
   "name": "python3"
  },
  "language_info": {
   "codemirror_mode": {
    "name": "ipython",
    "version": 3
   },
   "file_extension": ".py",
   "mimetype": "text/x-python",
   "name": "python",
   "nbconvert_exporter": "python",
   "pygments_lexer": "ipython3",
   "version": "3.11.5"
  }
 },
 "nbformat": 4,
 "nbformat_minor": 1
}
