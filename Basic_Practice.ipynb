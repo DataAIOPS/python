{
 "cells": [
  {
   "cell_type": "markdown",
   "id": "79471f5e",
   "metadata": {
    "id": "79471f5e"
   },
   "source": [
    "### Q1. Print the all Cities from below list"
   ]
  },
  {
   "cell_type": "code",
   "execution_count": 1,
   "id": "7c65a397",
   "metadata": {
    "id": "7c65a397"
   },
   "outputs": [
    {
     "name": "stdout",
     "output_type": "stream",
     "text": [
      "Pune\n",
      "Delhi\n",
      "Banglore\n",
      "Jaipur\n",
      "Ahmedabad\n",
      "Bhopal\n",
      "Patna\n"
     ]
    }
   ],
   "source": [
    "cities = [\"Pune\",\"Delhi\",\"Banglore\",\"Jaipur\",\"Ahmedabad\",\"Bhopal\",\"Patna\"]\n",
    "\n",
    "for city in cities:\n",
    "    print(city)"
   ]
  },
  {
   "cell_type": "markdown",
   "id": "8a2782e8",
   "metadata": {
    "id": "8a2782e8"
   },
   "source": [
    "### Q2. Print the alternative city from below list\n"
   ]
  },
  {
   "cell_type": "code",
   "execution_count": 9,
   "id": "7c223df4",
   "metadata": {
    "id": "7c223df4"
   },
   "outputs": [
    {
     "name": "stdout",
     "output_type": "stream",
     "text": [
      "Pune\n",
      "Banglore\n",
      "Ahmedabad\n",
      "Patna\n"
     ]
    }
   ],
   "source": [
    "cities = [\"Pune\",\"Delhi\",\"Banglore\",\"Jaipur\",\"Ahmedabad\",\"Bhopal\",\"Patna\"]\n",
    "for city in cities[::2]:\n",
    "    print(city)"
   ]
  },
  {
   "cell_type": "markdown",
   "id": "3528866e",
   "metadata": {
    "id": "3528866e"
   },
   "source": [
    "### Q3. print the numbers from below list adding 2 in each number"
   ]
  },
  {
   "cell_type": "code",
   "execution_count": 10,
   "id": "544a6753",
   "metadata": {
    "id": "544a6753"
   },
   "outputs": [
    {
     "name": "stdout",
     "output_type": "stream",
     "text": [
      "4\n",
      "8\n",
      "14\n",
      "17\n",
      "24\n",
      "47\n"
     ]
    }
   ],
   "source": [
    "numbers = [2,6,12,15,22,45]\n",
    "for num in numbers:\n",
    "    print(num+2)"
   ]
  },
  {
   "cell_type": "markdown",
   "id": "83359d42",
   "metadata": {
    "id": "83359d42"
   },
   "source": [
    "### Q4.print square of each number from below list\n"
   ]
  },
  {
   "cell_type": "code",
   "execution_count": 11,
   "id": "72aeaf71",
   "metadata": {
    "id": "72aeaf71"
   },
   "outputs": [
    {
     "name": "stdout",
     "output_type": "stream",
     "text": [
      "1\n",
      "4\n",
      "9\n",
      "16\n",
      "25\n",
      "36\n"
     ]
    }
   ],
   "source": [
    "numbers = [1,2,3,4,5,6]\n",
    "for num in numbers:\n",
    "    print(num*num)"
   ]
  },
  {
   "cell_type": "markdown",
   "id": "e936e628",
   "metadata": {
    "id": "e936e628"
   },
   "source": [
    "### Q5. print each number from below list but break the loop when number=10\n"
   ]
  },
  {
   "cell_type": "code",
   "execution_count": null,
   "id": "e10990db",
   "metadata": {
    "id": "e10990db"
   },
   "outputs": [],
   "source": [
    "numbers = [2,4,6,8,10,12,14,16,18,20]\n",
    "for num in numbers:\n",
    "    print(num)\n",
    "    if num==10:\n",
    "        break"
   ]
  },
  {
   "cell_type": "markdown",
   "id": "599b0538",
   "metadata": {
    "id": "599b0538"
   },
   "source": [
    "### Q6. print each city from below except Jaipur\n"
   ]
  },
  {
   "cell_type": "code",
   "execution_count": null,
   "id": "2ab0566e",
   "metadata": {
    "id": "2ab0566e"
   },
   "outputs": [],
   "source": [
    "cities = [\"Pune\",\"Delhi\",\"Banglore\",\"Jaipur\",\"Ahmedabad\",\"Bhopal\",\"Patna\"]\n",
    "for city in cities:\n",
    "    if city==\"Jaipur\":\n",
    "        continue\n",
    "    print(city)"
   ]
  },
  {
   "cell_type": "markdown",
   "id": "a9831dab",
   "metadata": {
    "id": "a9831dab"
   },
   "source": [
    "### Q7. print each city from below except Jaipur and Bhopal"
   ]
  },
  {
   "cell_type": "code",
   "execution_count": null,
   "id": "ae8674b6",
   "metadata": {
    "id": "ae8674b6"
   },
   "outputs": [],
   "source": [
    "cities = [\"Pune\",\"Delhi\",\"Banglore\",\"Jaipur\",\"Ahmedabad\",\"Bhopal\",\"Patna\"]\n",
    "for city in cities:\n",
    "    if city==\"Jaipur\" or city==\"Bhopal\":\n",
    "        continue\n",
    "    print(city)"
   ]
  },
  {
   "cell_type": "markdown",
   "id": "bf0d009a",
   "metadata": {
    "id": "bf0d009a"
   },
   "source": [
    "### When we have multiple conditions then use \"IN\" or \"NOT IN\", For exmaples see question number 8, 9 and 10"
   ]
  },
  {
   "cell_type": "markdown",
   "id": "39b6d01e",
   "metadata": {
    "id": "39b6d01e"
   },
   "source": [
    "### Q8. print each city from below except Delhi, Jaipur and Bhopal\n"
   ]
  },
  {
   "cell_type": "code",
   "execution_count": null,
   "id": "a330f63c",
   "metadata": {
    "id": "a330f63c"
   },
   "outputs": [],
   "source": [
    "cities = [\"Pune\",\"Delhi\",\"Banglore\",\"Jaipur\",\"Ahmedabad\",\"Bhopal\",\"Patna\"]\n",
    "for city in cities:\n",
    "    if city==\"Delhi\" or city==\"Jaipur\" or city==\"Bhopal\":\n",
    "        continue\n",
    "    print(city)"
   ]
  },
  {
   "cell_type": "code",
   "execution_count": null,
   "id": "eab54298",
   "metadata": {
    "id": "eab54298"
   },
   "outputs": [],
   "source": [
    "## Above code can be written using \"IN\"\n",
    "cities = [\"Pune\",\"Delhi\",\"Banglore\",\"Jaipur\",\"Ahmedabad\",\"Bhopal\",\"Patna\"]\n",
    "for city in cities:\n",
    "    if city not in [\"Delhi\",\"Jaipur\",\"Bhopal\"]:\n",
    "        print(city)"
   ]
  },
  {
   "cell_type": "markdown",
   "id": "bc6c3002",
   "metadata": {
    "id": "bc6c3002"
   },
   "source": [
    "### Q9. print all animals from list1 if animal present in list2\n"
   ]
  },
  {
   "cell_type": "code",
   "execution_count": null,
   "id": "6d0e97ec",
   "metadata": {
    "id": "6d0e97ec"
   },
   "outputs": [],
   "source": [
    "list1 = [\"Tiger\",\"Lion\",\"Monkey\",\"Giraffe\",\"Cheetah\",\"Deer\",\"Elephant\",\"Zebra\"]\n",
    "list2 = [\"Deer\",\"Monkey\",\"Zebra\"]\n",
    "\n",
    "for animal in list1:\n",
    "    if animal in list2:\n",
    "        print(animal)"
   ]
  },
  {
   "cell_type": "markdown",
   "id": "bb72dd2f",
   "metadata": {
    "id": "bb72dd2f"
   },
   "source": [
    "### Q10. print all animals from list1 if that animal is not present in list2\n"
   ]
  },
  {
   "cell_type": "code",
   "execution_count": null,
   "id": "265fb651",
   "metadata": {
    "id": "265fb651"
   },
   "outputs": [],
   "source": [
    "list1 = [\"Tiger\",\"Lion\",\"Monkey\",\"Giraffe\",\"Cheetah\",\"Deer\",\"Elephant\",\"Zebra\"]\n",
    "list2 = [\"Deer\",\"Monkey\",\"Zebra\"]\n",
    "\n",
    "for animal in list1:\n",
    "    if animal not in list2:\n",
    "        print(animal)"
   ]
  },
  {
   "cell_type": "markdown",
   "id": "103d134d",
   "metadata": {
    "id": "103d134d"
   },
   "source": [
    "### Q11. calculate the sum of all numbers in list\n"
   ]
  },
  {
   "cell_type": "code",
   "execution_count": 12,
   "id": "940854e9",
   "metadata": {
    "id": "940854e9"
   },
   "outputs": [
    {
     "name": "stdout",
     "output_type": "stream",
     "text": [
      "15\n"
     ]
    }
   ],
   "source": [
    "numbers = [1,2,3,4,5]\n",
    "sum=0\n",
    "\n",
    "for num in numbers:\n",
    "    sum = sum+num\n",
    "\n",
    "print(sum)"
   ]
  },
  {
   "cell_type": "markdown",
   "id": "7752cd2e",
   "metadata": {
    "id": "7752cd2e"
   },
   "source": [
    "### Q12.calculate the multiplication of all number in list"
   ]
  },
  {
   "cell_type": "code",
   "execution_count": null,
   "id": "ba4a1e64",
   "metadata": {
    "id": "ba4a1e64"
   },
   "outputs": [],
   "source": [
    "numbers = [1,2,3,4,5]\n",
    "mul=1\n",
    "\n",
    "for num in numbers:\n",
    "    mul = mul*num\n",
    "\n",
    "print(mul)"
   ]
  },
  {
   "cell_type": "markdown",
   "id": "96356aa3",
   "metadata": {
    "id": "96356aa3"
   },
   "source": [
    "### Q13. Given the list of names, add the string \"Mr. \" before each name and print the updated list.\n"
   ]
  },
  {
   "cell_type": "code",
   "execution_count": 14,
   "id": "7bb13eb5",
   "metadata": {
    "id": "7bb13eb5"
   },
   "outputs": [
    {
     "name": "stdout",
     "output_type": "stream",
     "text": [
      "['Mr.John', 'Mr.Alice', 'Mr.Bob']\n"
     ]
    }
   ],
   "source": [
    "names = [\"John\", \"Alice\", \"Bob\"]\n",
    "new_names = []\n",
    "\n",
    "for name in names:\n",
    "    temp_name = f\"Mr.{name}\"\n",
    "    new_names.append(temp_name)\n",
    "\n",
    "print(new_names)"
   ]
  },
  {
   "cell_type": "markdown",
   "id": "3eacdfc7",
   "metadata": {
    "id": "3eacdfc7"
   },
   "source": [
    "### Q14. You are given a list of numbers. Write a program using a for loop to find the largest number in the list and print it.\n"
   ]
  },
  {
   "cell_type": "code",
   "execution_count": null,
   "id": "7c253d02",
   "metadata": {
    "id": "7c253d02"
   },
   "outputs": [],
   "source": [
    "numbers = [5,8,2,4,1]\n",
    "\n",
    "largest_num = numbers[0]\n",
    "\n",
    "for num in numbers:\n",
    "    if num >largest_num:\n",
    "        largest_num = num\n",
    "\n",
    "print(largest_num)"
   ]
  },
  {
   "cell_type": "markdown",
   "id": "d71cbd6c",
   "metadata": {
    "id": "d71cbd6c"
   },
   "source": [
    "### Q15. You are given a list of numbers. Write a program using a for loop to find the largest number in the list and print it.\n"
   ]
  },
  {
   "cell_type": "code",
   "execution_count": null,
   "id": "54764bdb",
   "metadata": {
    "id": "54764bdb"
   },
   "outputs": [],
   "source": [
    "numbers = [5,8,2,4,1]\n",
    "\n",
    "smallest_num = numbers[0]\n",
    "\n",
    "for num in numbers:\n",
    "    if num <smallest_num:\n",
    "        smallest_num = num\n",
    "\n",
    "print(smallest_num)"
   ]
  },
  {
   "cell_type": "markdown",
   "id": "6ffe8382",
   "metadata": {
    "id": "6ffe8382"
   },
   "source": [
    "### Q16. Given a list of numbers, create a new list that contains the squares of each number in the original list. Then, print the new list.\n"
   ]
  },
  {
   "cell_type": "code",
   "execution_count": 15,
   "id": "0543fb3f",
   "metadata": {
    "id": "0543fb3f"
   },
   "outputs": [
    {
     "name": "stdout",
     "output_type": "stream",
     "text": [
      "[1, 4, 9, 16, 25]\n"
     ]
    }
   ],
   "source": [
    "numbers = [1, 2, 3, 4, 5]\n",
    "squares = []\n",
    "\n",
    "for num in numbers:\n",
    "    squares.append(num*num)\n",
    "\n",
    "print(squares)"
   ]
  },
  {
   "cell_type": "markdown",
   "id": "f4d83a62",
   "metadata": {
    "id": "f4d83a62"
   },
   "source": [
    "### Q17. Given a list of words, create a new list that contains the lengths of each word in the original list. Then, print the new list.\n"
   ]
  },
  {
   "cell_type": "code",
   "execution_count": 16,
   "id": "2bb3de64",
   "metadata": {
    "id": "2bb3de64"
   },
   "outputs": [
    {
     "name": "stdout",
     "output_type": "stream",
     "text": [
      "[5, 6, 4, 6]\n"
     ]
    }
   ],
   "source": [
    "words = [\"apple\", \"banana\", \"kiwi\",\"papaya\"]\n",
    "word_lengths = []\n",
    "\n",
    "for word in words:\n",
    "    word_lengths.append(len(word))\n",
    "\n",
    "print(word_lengths)"
   ]
  },
  {
   "cell_type": "markdown",
   "id": "b40c7a4e",
   "metadata": {
    "id": "b40c7a4e"
   },
   "source": [
    "### Q18. You are given a list of names. Use a for loop to iterate over the list and print only the names that have length more than 5 characters"
   ]
  },
  {
   "cell_type": "code",
   "execution_count": 17,
   "id": "04bc53ae",
   "metadata": {
    "id": "04bc53ae"
   },
   "outputs": [
    {
     "name": "stdout",
     "output_type": "stream",
     "text": [
      "Charlie\n"
     ]
    }
   ],
   "source": [
    "names = [\"Alice\", \"Bob\", \"Charlie\", \"David\", \"Eve\", \"Frank\"]\n",
    "\n",
    "for name in names:\n",
    "    if len(name) > 5:\n",
    "        print(name)"
   ]
  },
  {
   "cell_type": "markdown",
   "id": "25b7456c",
   "metadata": {
    "id": "25b7456c"
   },
   "source": [
    "### Q19. Given a list of words, create a new list that contains the uppercase version of each word in the original list. Then, print the new list.`"
   ]
  },
  {
   "cell_type": "code",
   "execution_count": 18,
   "id": "c43a9f92",
   "metadata": {
    "id": "c43a9f92"
   },
   "outputs": [
    {
     "name": "stdout",
     "output_type": "stream",
     "text": [
      "['APPLE', 'BANANA', 'CHERRY']\n"
     ]
    }
   ],
   "source": [
    "words = [\"apple\", \"banana\", \"cherry\"]\n",
    "uppercase_words = []\n",
    "\n",
    "for word in words:\n",
    "    new_word = word.upper()\n",
    "    uppercase_words.append(new_word)\n",
    "\n",
    "print(uppercase_words)\n"
   ]
  },
  {
   "cell_type": "markdown",
   "id": "491d8793",
   "metadata": {
    "id": "491d8793"
   },
   "source": [
    "### Q20. Given a list of numbers, use a for loop to create a new list that contains only the numbers greater than 10. Then, print the new list."
   ]
  },
  {
   "cell_type": "code",
   "execution_count": 19,
   "id": "57c239a2",
   "metadata": {
    "id": "57c239a2"
   },
   "outputs": [
    {
     "name": "stdout",
     "output_type": "stream",
     "text": [
      "[12, 15, 20]\n"
     ]
    }
   ],
   "source": [
    "numbers = [5, 12, 8, 15, 3, 20]\n",
    "greater_than_10 = []\n",
    "\n",
    "for number in numbers:\n",
    "    if number > 10:\n",
    "        greater_than_10.append(number)\n",
    "\n",
    "print(greater_than_10)"
   ]
  },
  {
   "cell_type": "markdown",
   "id": "4ac19eb2",
   "metadata": {
    "id": "4ac19eb2"
   },
   "source": [
    "### Q21.Given a list of names, create a new list that contains only the names starting with the letter \"J\". Then, print the new list."
   ]
  },
  {
   "cell_type": "code",
   "execution_count": 20,
   "id": "af262814",
   "metadata": {
    "id": "af262814"
   },
   "outputs": [
    {
     "name": "stdout",
     "output_type": "stream",
     "text": [
      "['John', 'James', 'Jenny']\n"
     ]
    }
   ],
   "source": [
    "names = [\"John\", \"Alice\", \"James\", \"Bob\", \"Jenny\"]\n",
    "j_names = []\n",
    "\n",
    "for name in names:\n",
    "    if name.startswith(\"J\"):\n",
    "        j_names.append(name)\n",
    "\n",
    "print(j_names)"
   ]
  },
  {
   "cell_type": "markdown",
   "id": "565ffa68",
   "metadata": {
    "id": "565ffa68"
   },
   "source": [
    "### Q22. Calculate the sum of all numbers in below list if number is greater than 10"
   ]
  },
  {
   "cell_type": "code",
   "execution_count": 21,
   "id": "34db406c",
   "metadata": {
    "id": "34db406c"
   },
   "outputs": [
    {
     "name": "stdout",
     "output_type": "stream",
     "text": [
      "47\n"
     ]
    }
   ],
   "source": [
    "numbers = [2,15,5,12,7,8,20]\n",
    "sum = 0\n",
    "for num in numbers:\n",
    "    if num>10:\n",
    "        sum = sum+num\n",
    "print(sum)"
   ]
  },
  {
   "cell_type": "markdown",
   "id": "f01af853",
   "metadata": {
    "id": "f01af853"
   },
   "source": [
    "### Q23. Given a list of numbers, create a new list that contains only the numbers less than 20 and greater than 5. Then, print the new list.\n"
   ]
  },
  {
   "cell_type": "code",
   "execution_count": 22,
   "id": "38fd3762",
   "metadata": {
    "id": "38fd3762"
   },
   "outputs": [
    {
     "name": "stdout",
     "output_type": "stream",
     "text": [
      "[15, 8, 7, 10]\n"
     ]
    }
   ],
   "source": [
    "numbers = [15, 4, 8, 23, 7, 10]\n",
    "filtered_numbers = []\n",
    "\n",
    "for number in numbers:\n",
    "    if 5 < number < 20:\n",
    "        filtered_numbers.append(number)\n",
    "\n",
    "print(filtered_numbers)\n"
   ]
  },
  {
   "cell_type": "markdown",
   "id": "3b3d1668",
   "metadata": {
    "id": "3b3d1668"
   },
   "source": [
    "### Q24. Create a new list having names ends with small \"L\""
   ]
  },
  {
   "cell_type": "code",
   "execution_count": 23,
   "id": "e5f88311",
   "metadata": {
    "id": "e5f88311"
   },
   "outputs": [
    {
     "name": "stdout",
     "output_type": "stream",
     "text": [
      "['Rahul', 'Amol']\n"
     ]
    }
   ],
   "source": [
    "names = [\"Om\",\"Jay\",\"Rahul\",\"Prakash\",\"Amol\"]\n",
    "\n",
    "new_names = []\n",
    "\n",
    "for name in names:\n",
    "    if name.endswith(\"l\"):\n",
    "        new_names.append(name)\n",
    "\n",
    "print(new_names)"
   ]
  },
  {
   "cell_type": "markdown",
   "id": "600d7d53",
   "metadata": {
    "id": "600d7d53"
   },
   "source": [
    "### Q25. Create new list of numbers between 5 to 10 from below list"
   ]
  },
  {
   "cell_type": "code",
   "execution_count": 24,
   "id": "570a6391",
   "metadata": {
    "id": "570a6391"
   },
   "outputs": [
    {
     "name": "stdout",
     "output_type": "stream",
     "text": [
      "[6, 7, 8, 9]\n"
     ]
    }
   ],
   "source": [
    "list1 = [1,2,3,4,5,6,7,8,9,10,11,12,13,14,15]\n",
    "list2=[]\n",
    "\n",
    "for num in list1:\n",
    "    if 5<num<10:\n",
    "        list2.append(num)\n",
    "\n",
    "print(list2)"
   ]
  },
  {
   "cell_type": "markdown",
   "id": "W5OHEF7E_WHd",
   "metadata": {
    "id": "W5OHEF7E_WHd"
   },
   "source": [
    "## 26. In below dictionary double the value of each key"
   ]
  },
  {
   "cell_type": "code",
   "execution_count": null,
   "id": "YpbSe-ULAsXO",
   "metadata": {
    "colab": {
     "base_uri": "https://localhost:8080/"
    },
    "id": "YpbSe-ULAsXO",
    "outputId": "32f9b502-abf1-43d0-c3d2-5aba913ec162"
   },
   "outputs": [
    {
     "data": {
      "text/plain": [
       "{'a': 2, 'b': 2, 'c': 3}"
      ]
     },
     "execution_count": 24,
     "metadata": {},
     "output_type": "execute_result"
    }
   ],
   "source": [
    "my_dict = {'a': 1, 'b': 2, 'c': 3}\n",
    "\n",
    "my_dict[\"a\"] = my_dict[\"a\"] * 2\n",
    "\n",
    "my_dict"
   ]
  },
  {
   "cell_type": "markdown",
   "id": "J3JlCGC5_xxZ",
   "metadata": {
    "id": "J3JlCGC5_xxZ"
   },
   "source": [
    "## 27. In below dictionary double the value of each key"
   ]
  },
  {
   "cell_type": "code",
   "execution_count": null,
   "id": "IL5kOLcb_2_Y",
   "metadata": {
    "colab": {
     "base_uri": "https://localhost:8080/"
    },
    "id": "IL5kOLcb_2_Y",
    "outputId": "e8475050-b283-4322-9e5e-b4dd68e4b374"
   },
   "outputs": [
    {
     "name": "stdout",
     "output_type": "stream",
     "text": [
      "{'d': 40, 'e': 50}\n"
     ]
    }
   ],
   "source": [
    "my_dict = {'a': 1, 'b': 2, 'c': 3}\n",
    "\n",
    "my_dict[\"a\"] = my_dict[\"a\"] * 2\n",
    "\n",
    "my_dict"
   ]
  },
  {
   "cell_type": "markdown",
   "id": "4ZqOCJsx5qlz",
   "metadata": {
    "id": "4ZqOCJsx5qlz"
   },
   "source": [
    "28."
   ]
  },
  {
   "cell_type": "markdown",
   "id": "qkrzn36M5tkY",
   "metadata": {
    "id": "qkrzn36M5tkY"
   },
   "source": [
    "29."
   ]
  },
  {
   "cell_type": "markdown",
   "id": "-2O5DcCh5uve",
   "metadata": {
    "id": "-2O5DcCh5uve"
   },
   "source": [
    "30."
   ]
  },
  {
   "cell_type": "markdown",
   "id": "hrgfL0Mc50ZY",
   "metadata": {
    "id": "hrgfL0Mc50ZY"
   },
   "source": [
    "## 31. Write a function to calculate addition of 2 numbers and print it"
   ]
  },
  {
   "cell_type": "code",
   "execution_count": 1,
   "id": "Eb1253MP6kyP",
   "metadata": {
    "id": "Eb1253MP6kyP"
   },
   "outputs": [],
   "source": [
    "def add_numbers(a, b):\n",
    "    add = a + b\n",
    "    print(add)"
   ]
  },
  {
   "cell_type": "code",
   "execution_count": 2,
   "id": "vysOs1KZ6qEl",
   "metadata": {
    "colab": {
     "base_uri": "https://localhost:8080/"
    },
    "id": "vysOs1KZ6qEl",
    "outputId": "360e289f-aec0-483c-ca9b-e379437364fd"
   },
   "outputs": [
    {
     "data": {
      "text/plain": [
       "10"
      ]
     },
     "execution_count": 2,
     "metadata": {},
     "output_type": "execute_result"
    }
   ],
   "source": [
    "add_numbers(5,5)"
   ]
  },
  {
   "cell_type": "markdown",
   "id": "_Mx3IG2660Lj",
   "metadata": {
    "id": "_Mx3IG2660Lj"
   },
   "source": [
    "## 32. Write a function to calcualte the multiplication of 2 number and print it"
   ]
  },
  {
   "cell_type": "code",
   "execution_count": 8,
   "id": "aCg5xk2J68Rk",
   "metadata": {
    "id": "aCg5xk2J68Rk"
   },
   "outputs": [],
   "source": [
    "def mul(num1,num2):\n",
    "  mul = num1*num2\n",
    "  print(mul)"
   ]
  },
  {
   "cell_type": "code",
   "execution_count": 10,
   "id": "Vmf4uKV-7De_",
   "metadata": {
    "colab": {
     "base_uri": "https://localhost:8080/"
    },
    "id": "Vmf4uKV-7De_",
    "outputId": "48f1da75-83e8-42b9-f9b1-1de362caae34"
   },
   "outputs": [
    {
     "name": "stdout",
     "output_type": "stream",
     "text": [
      "8\n"
     ]
    }
   ],
   "source": [
    "mul(4,2)"
   ]
  },
  {
   "cell_type": "markdown",
   "id": "TEGxf5O07PlU",
   "metadata": {
    "id": "TEGxf5O07PlU"
   },
   "source": [
    "## 33. Write a function to calculate subsstraction of 2 number and return it (dont print inside function)"
   ]
  },
  {
   "cell_type": "code",
   "execution_count": 11,
   "id": "rPFcmWhd7GJ2",
   "metadata": {
    "id": "rPFcmWhd7GJ2"
   },
   "outputs": [],
   "source": [
    "def substraction(a,b):\n",
    "  sub = a - b\n",
    "  return sub"
   ]
  },
  {
   "cell_type": "code",
   "execution_count": 12,
   "id": "Z0BUSNGm7nI2",
   "metadata": {
    "id": "Z0BUSNGm7nI2"
   },
   "outputs": [],
   "source": [
    "sub = substraction(10,5)"
   ]
  },
  {
   "cell_type": "code",
   "execution_count": 13,
   "id": "2GHe8o087uGH",
   "metadata": {
    "colab": {
     "base_uri": "https://localhost:8080/"
    },
    "id": "2GHe8o087uGH",
    "outputId": "fcea179b-3f25-4d7e-ba6d-d25b39fccb94"
   },
   "outputs": [
    {
     "name": "stdout",
     "output_type": "stream",
     "text": [
      "5\n"
     ]
    }
   ],
   "source": [
    "print(sub)"
   ]
  },
  {
   "cell_type": "markdown",
   "id": "6dvlws0371n4",
   "metadata": {
    "id": "6dvlws0371n4"
   },
   "source": [
    "## 34. Write a function to square the number and return it"
   ]
  },
  {
   "cell_type": "code",
   "execution_count": 14,
   "id": "P-W8E4XH76Vh",
   "metadata": {
    "id": "P-W8E4XH76Vh"
   },
   "outputs": [],
   "source": [
    "def square(a):\n",
    "  sqr = a*a\n",
    "  return sqr"
   ]
  },
  {
   "cell_type": "code",
   "execution_count": 15,
   "id": "mmZl2Kll8EVQ",
   "metadata": {
    "colab": {
     "base_uri": "https://localhost:8080/"
    },
    "id": "mmZl2Kll8EVQ",
    "outputId": "15c162d5-563e-42e1-8a36-6b560e7652d2"
   },
   "outputs": [
    {
     "data": {
      "text/plain": [
       "9"
      ]
     },
     "execution_count": 15,
     "metadata": {},
     "output_type": "execute_result"
    }
   ],
   "source": [
    "square(3)"
   ]
  },
  {
   "cell_type": "markdown",
   "id": "e_6Tf4Fn9CD5",
   "metadata": {
    "id": "e_6Tf4Fn9CD5"
   },
   "source": [
    "## 35. Write a fucntion to check if number is even or odd and print it"
   ]
  },
  {
   "cell_type": "code",
   "execution_count": 16,
   "id": "3CIPPnYb9K0p",
   "metadata": {
    "id": "3CIPPnYb9K0p"
   },
   "outputs": [],
   "source": [
    "def even_odd(num):\n",
    "  if num%2==0:\n",
    "    print(\"{} Is Even Number\".format(num))\n",
    "  else:\n",
    "    print(\"{} Is Odd Number\".format(num))"
   ]
  },
  {
   "cell_type": "code",
   "execution_count": 17,
   "id": "vW60pG5l9nwp",
   "metadata": {
    "colab": {
     "base_uri": "https://localhost:8080/"
    },
    "id": "vW60pG5l9nwp",
    "outputId": "5243cb56-40d9-48ff-cdff-3c3e0b9499d4"
   },
   "outputs": [
    {
     "name": "stdout",
     "output_type": "stream",
     "text": [
      "10 Is Even Number\n"
     ]
    }
   ],
   "source": [
    "even_odd(10)"
   ]
  },
  {
   "cell_type": "markdown",
   "id": "7W_fQJxO9ru4",
   "metadata": {
    "id": "7W_fQJxO9ru4"
   },
   "source": [
    "## 36. Check if number is positive or negative"
   ]
  },
  {
   "cell_type": "code",
   "execution_count": 18,
   "id": "WsdinkK-9xWs",
   "metadata": {
    "id": "WsdinkK-9xWs"
   },
   "outputs": [],
   "source": [
    "def positive_negative(num):\n",
    "  if num>0:\n",
    "    print(\"{} is positive number\".format(num))\n",
    "  else:\n",
    "    print(\"{} is negative number\".format(num))"
   ]
  },
  {
   "cell_type": "code",
   "execution_count": 19,
   "id": "2L6dib2_-D75",
   "metadata": {
    "colab": {
     "base_uri": "https://localhost:8080/"
    },
    "id": "2L6dib2_-D75",
    "outputId": "13a5dde4-55be-4b6a-a67c-dd1b1da78bf8"
   },
   "outputs": [
    {
     "name": "stdout",
     "output_type": "stream",
     "text": [
      "10 is positive number\n"
     ]
    }
   ],
   "source": [
    "positive_negative(10)"
   ]
  },
  {
   "cell_type": "code",
   "execution_count": 20,
   "id": "Yd-DLCXP-IfM",
   "metadata": {
    "colab": {
     "base_uri": "https://localhost:8080/"
    },
    "id": "Yd-DLCXP-IfM",
    "outputId": "35340cc1-0a9c-4238-bbb9-ea601130336e"
   },
   "outputs": [
    {
     "name": "stdout",
     "output_type": "stream",
     "text": [
      "-10 is negative number\n"
     ]
    }
   ],
   "source": [
    "positive_negative(-10)"
   ]
  },
  {
   "cell_type": "markdown",
   "id": "NxfWDKta-yk5",
   "metadata": {
    "id": "NxfWDKta-yk5"
   },
   "source": [
    "## 37. Write a function to count frequency of element in list"
   ]
  },
  {
   "cell_type": "code",
   "execution_count": 21,
   "id": "nkD8-q_t_CaX",
   "metadata": {
    "id": "nkD8-q_t_CaX"
   },
   "outputs": [],
   "source": [
    "def count_freq(list1,element):\n",
    "  cnt = list1.count(element)\n",
    "  return cnt"
   ]
  },
  {
   "cell_type": "code",
   "execution_count": 22,
   "id": "F3QohQ7I_NSq",
   "metadata": {
    "id": "F3QohQ7I_NSq"
   },
   "outputs": [],
   "source": [
    "cnt_element = count_freq([\"ram\",\"shyam\",\"ram\"],\"ram\")\n",
    "print(cnt_element)"
   ]
  },
  {
   "cell_type": "code",
   "execution_count": 25,
   "id": "MAI8m4p28KdK",
   "metadata": {
    "colab": {
     "base_uri": "https://localhost:8080/"
    },
    "id": "MAI8m4p28KdK",
    "outputId": "7124a6ca-b710-46dd-8244-89da2ee9c29c"
   },
   "outputs": [
    {
     "name": "stdout",
     "output_type": "stream",
     "text": [
      "3\n"
     ]
    }
   ],
   "source": [
    "cnt_element = count_freq([11,33,22,11,44,11],11)\n",
    "print(cnt_element)"
   ]
  },
  {
   "cell_type": "markdown",
   "id": "Z57aIH3m_sbZ",
   "metadata": {
    "id": "Z57aIH3m_sbZ"
   },
   "source": [
    "## 38. write a function which takes any string and convert it to upper case"
   ]
  },
  {
   "cell_type": "code",
   "execution_count": 28,
   "id": "E3ZkHRPK_zZA",
   "metadata": {
    "id": "E3ZkHRPK_zZA"
   },
   "outputs": [],
   "source": [
    "def upper_string(a):\n",
    "  capital = a.upper()\n",
    "  return capital"
   ]
  },
  {
   "cell_type": "code",
   "execution_count": 29,
   "id": "2YN1lln7_-vJ",
   "metadata": {
    "colab": {
     "base_uri": "https://localhost:8080/"
    },
    "id": "2YN1lln7_-vJ",
    "outputId": "0f533133-3963-4017-f984-9720ffbc266a"
   },
   "outputs": [
    {
     "name": "stdout",
     "output_type": "stream",
     "text": [
      "RAM\n"
     ]
    }
   ],
   "source": [
    "a = upper_string(\"ram\")\n",
    "print(a)"
   ]
  },
  {
   "cell_type": "markdown",
   "id": "_ZU0CkE3AI83",
   "metadata": {
    "id": "_ZU0CkE3AI83"
   },
   "source": [
    "## 39. Write a function which takes list as input and returns the addition of all number of list"
   ]
  },
  {
   "cell_type": "code",
   "execution_count": 30,
   "id": "kBrFPOlHA_2Y",
   "metadata": {
    "id": "kBrFPOlHA_2Y"
   },
   "outputs": [],
   "source": [
    "def add_list(list_1):\n",
    "  add = 0\n",
    "  for num in list_1:\n",
    "    add = add + num\n",
    "  return add"
   ]
  },
  {
   "cell_type": "code",
   "execution_count": 32,
   "id": "aGf5ejEZBLCW",
   "metadata": {
    "colab": {
     "base_uri": "https://localhost:8080/"
    },
    "id": "aGf5ejEZBLCW",
    "outputId": "6bf467b2-aeb4-4cd7-dd19-d1e79820e45d"
   },
   "outputs": [
    {
     "name": "stdout",
     "output_type": "stream",
     "text": [
      "10\n"
     ]
    }
   ],
   "source": [
    "addition = add_list([1,2,3,4])\n",
    "print(addition)"
   ]
  },
  {
   "cell_type": "markdown",
   "id": "aEtpexHbBcSp",
   "metadata": {
    "id": "aEtpexHbBcSp"
   },
   "source": [
    "## 40. write a function to calculate the area of triangle"
   ]
  },
  {
   "cell_type": "code",
   "execution_count": 35,
   "id": "b0vDGQaqBvZh",
   "metadata": {
    "id": "b0vDGQaqBvZh"
   },
   "outputs": [],
   "source": [
    "def area_triangle(length,base):\n",
    "  area = 0.5 * length * base\n",
    "  print(\"Area of triangle = {}\".format(area))"
   ]
  },
  {
   "cell_type": "code",
   "execution_count": 36,
   "id": "FgoKogzECEeN",
   "metadata": {
    "colab": {
     "base_uri": "https://localhost:8080/"
    },
    "id": "FgoKogzECEeN",
    "outputId": "cd6ec8a1-b47e-4915-bd26-cfb68f83c5a6"
   },
   "outputs": [
    {
     "name": "stdout",
     "output_type": "stream",
     "text": [
      "Area of triangle = 100.0\n"
     ]
    }
   ],
   "source": [
    "area_triangle(10,20)"
   ]
  }
 ],
 "metadata": {
  "colab": {
   "provenance": []
  },
  "kernelspec": {
   "display_name": "Python 3 (ipykernel)",
   "language": "python",
   "name": "python3"
  },
  "language_info": {
   "codemirror_mode": {
    "name": "ipython",
    "version": 3
   },
   "file_extension": ".py",
   "mimetype": "text/x-python",
   "name": "python",
   "nbconvert_exporter": "python",
   "pygments_lexer": "ipython3",
   "version": "3.11.5"
  }
 },
 "nbformat": 4,
 "nbformat_minor": 5
}
