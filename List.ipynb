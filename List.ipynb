{
 "cells": [
  {
   "cell_type": "markdown",
   "metadata": {
    "id": "g0AkO1FD9LeF"
   },
   "source": [
    "# Why list?\n",
    "\n",
    "#### Lets consider, you are visiting a Zoo and you are advised to make list of name of animals available in the Zoo in python, what will be your apporach?\n",
    "\n",
    "So far we just know about variables in python, which stores any value like integer, float, string. Hence with same approach, I can make a variable as below.\n",
    "\n",
    "\n",
    "```\n",
    "First_Animal = \"Elephant\"\n",
    "Second_Animal = \"Lion\"\n",
    "Third_Animal = \"Camel\"\n",
    "Fourth_Animal = \"Tiger\"\n",
    "....\n",
    "....\n",
    "....\n",
    "....\n",
    "```\n",
    "\n",
    "Now if someone will ask, what was the name of Second Animal you saw? you will asnwere as below\n",
    "\n",
    "```\n",
    "print(Second_Animal)\n",
    "```\n",
    ":>>> Lion\n",
    "\n",
    "Problem with this method is that, you have to create a separate variable for each animal and while printing any name we have to call that variable name. But isnt it, complex and lenghty approach? instead can we create a single variable storing all animals and access each animal by position of animal.\n",
    "\n",
    "### Here we need List\n",
    "Lets adopt list to optimized above problem.\n",
    "\n",
    "```\n",
    "animals = [\"Elephant\",\"Lion\",\"Camel\",\"Tiger\",......]\n",
    "```\n",
    "What was the name of Second Animal?\n",
    "\n",
    "```\n",
    "print(animals[1])\n",
    "```\n",
    ":>>> Lion\n",
    "\n",
    "\n",
    "\n",
    "\n",
    "\n",
    "\n",
    "\n",
    "\n",
    "\n"
   ]
  },
  {
   "cell_type": "markdown",
   "metadata": {
    "id": "twOxJHIWBnrB"
   },
   "source": [
    "# List\n",
    "\n",
    "- Lists are used to store multiple items in a single variable.\n",
    "- Lists are created using square brackets\n",
    "- List items are ordered and changeable"
   ]
  },
  {
   "cell_type": "code",
   "execution_count": null,
   "metadata": {
    "colab": {
     "base_uri": "https://localhost:8080/"
    },
    "id": "ywG3kHalbUDl",
    "outputId": "c3eeed35-a6a2-4076-9204-e4de22d59523"
   },
   "outputs": [
    {
     "name": "stdout",
     "output_type": "stream",
     "text": [
      "['Elephant', 'Lion', 'Camel', 'Tiger']\n"
     ]
    }
   ],
   "source": [
    "# Creating list of animals\n",
    "animals = [\"Elephant\",\"Lion\",\"Camel\",\"Tiger\"]\n",
    "print(animals)"
   ]
  },
  {
   "cell_type": "markdown",
   "metadata": {
    "id": "fphfQZ60bE4M"
   },
   "source": [
    "## Access List Items\n",
    "- List items are indexed hence can access them by referring to the index number.\n",
    "- List items are given an index which will start from 0 for first item or negative index will start from -1 from last item\n",
    "![image.png](data:image/png;base64,iVBORw0KGgoAAAANSUhEUgAAAaQAAACgCAYAAABDqhiXAAAABHNCSVQICAgIfAhkiAAAIABJREFUeF7tnQd8FMXbx3+XdpdGCoEk1FBDl6I0EUGKIt0GKhH5gxoEkaKACAhIEQSp0kQFrKA0KQoC8hqaoKhUCYgQSiC0BEgv+87s3iaXu927TXI57pJnPh5mZ2ZnnvnOM/PszM7M6jIzMwVYcQkJCShfvryVGEBWVpYY7uHh4dB4PDOSzxK51vogfpbsuA/xKxoX4kf8ZAIF7Z+ZDbFuRNzc3GwaGjlzW2kVRzyST1n5ua+W+iB+xK842iXpX9H0qrTyc1PHRiFEgAgQASJABBxHgAyS41hTTkSACBABImCFABkkK3AoiAgQASJABBxHgAyS41hTTkSACBABImCFABkkK3AoiAgQASJABBxHgAyS41hTTkSACBABImCFABkkK3AoiAgQASJABBxHwEPexKaWZU5OTu5GQbU4ttKQ77N3PJ4uyWdZK1o5Ez9LdtyH+BWNC/EjfjKBgvbPNEJS1h3yJQJEgAgQAQcToJMaFIBrOeGA36YlHp2EoADY6EX8lNlo4UL6p8xOKxet8aj9Fo1zQfnRCEmdN4UQASJABIiAAwmQQXIgbMqKCBABIkAE1AmQQVJnQyFEgAgQASLgQAJkkBwIm7IiAkSACBABdQJkkNTZUAgRIAJEgAg4kAAZJAfCpqyIABEgAkRAnQAZJHU2FEIEiAARIAIOJEAGyYGwKSsiQASIABFQJ6CLj48XdDodBEFQjJWcnAxfX1/FMNmTHw/BHd8EZc0pxTPPm19nZ2fnS888jmkeJF/+uiN+6hpI+qfMRomLUkyleOZtk/RPiZzkR/yU2Zhy0TFDpGyJjPdevXoVYWFhyikZfeWzq2ztMLd3PJ49yWdZNVo5Ez9LdtyH+BWNC/EjfjKBgvbP1oc0ylzJlwgQASJABIiA3QmQQbI7UkqQCBABIkAECkOADFJhqNE9RIAIEAEiYHcCZJDsjpQSJAJEgAgQgcIQIINUGGp0DxEgAkSACNidABkkuyOlBIkAESACRKAwBMggFYYa3UMEiAARIAJ2J+Ah7xlQS7mg30RXS4f728pLvldrPB6f5LMkTvwsmZD+KTMpDi6kf8qstXLRGq8k9n80QlLWHfIlAkSACBABBxNghyt4WM2yoN9Et5qYMdBWnnIaWuKRfOrEiZ8yGy1c+J1a4pH+KTMmfkXjUlr50QhJXW8ohAgQASJABBxIgAySA2FTVkSACBABIqBOgAySOpsihVyY0R1l2cnl4eHh0NWMxqZsq2fYFikv5745HefWTEb/Tg1RIcgH3t7eqFD3QXR6fQ6+j0txbtGLVbp0XNk0C9GdHkTNEIlLGeJihTjjtXUKelX1Bz9RXOfXGENPSV8FsHITBbkYAesvkFysME4j7okVeG3GNtxyGoHukyBCEg6M7Ypus/blY5F29m/s4b8f92Dyri2YWNv9Pgl4/7K9sKgfWg//HldM+1TiolghHreP4YuR0Rj+7SHcylKMQp4lhACNkOxdkUIcPnvjPWxP80dgiLe9U3et9I4swpvz9kvG6IE+GP/NFuze/g1m9oiESObST3hv/hakulapii5twjqMnbhBMkahLRD9+Wbs3rUey6Ka53GZUwq5KJEVYvHhkx3x0pfMGFVph+4tyivFIr8SQoAMkp0r8tqyUXg75grQZgTebRto59RdK7lrh88hu3Yd1GnYEoMWrMD7fbuifee+GL3kXXTyMKrev+cR51rFKrq0u37Cjtt8aKQH3lqOJS93Q/vHeuPVee/iuUDjaPH4Xzhd9JxcP4XMO0i9541qry/BgSO7Ma55uOuXiUqgSoCm7FTRFCLgwpcYPnEjbukfwMCZQ1FzxvJCJFJybgmN/hR/RCuUJzUNaTrjO7WK4aiiEKVEez27EJe7L2TrygGDwZBX1CzGJNN4qTdIo6USDUJD4Txr4YV1RzCudjBbhq/DQQ23UBTXJUAnNZjUndYd0krxdEICNoyYhG+vsyfcsXMxt4kB2+V1DOyjvNlZWcgSdIqaopSeUkR7x+N5OOqkC/fbF7D/73NIij+K7YvnYUcmg1O2OYYOfhyenI1SgR0on2n2WjkXnp8HPIx2KC+vdPw5Zx7WJhtHTh0eRQ0VLsUvn3JlaM1Xazxt/HxRqbo+95SX7JzcRoWcbKY33IgbndZ8tcbTJp/9T6ApzfLRCEm57RXYN+nrCXjzh3+BxsOwYWwb9nSbUeA0SvINuiNL0L/rR/iXrzb0LI+K/SZi7rhR6F3LpyQXW2PZ0hE7Kwo95+yR3qc90B8boptpvJeiEYGSQ4BOalCoS8Ud+vGHsOb7w7jB4vNRBXfZIU0R9eLDKJuwBaMmfIEr7pHoPmcCegV48lhgMwySY8tU3dmJGB7uyiMkWQTFfOVAk//bM16RTxqwxsVUdjc35JY+MwGX18zHoCx3eM8fj27l1V9lFlm++8VPK5fMC/hx6PPot/yAtPijdk/MWTsXvcpyHbLutOiBS/C7fiS3bcklzgxuLLUtM713d8ttVHBzZ23Kw3KFphYuPFkt8VyCn43TdmSEWsqrlYvWeAXmJ9hw8fHxNmIIQmZmpviz5ewdj+fnMPn2ThAauIsvPvJ+TccI+zMThV+iGkh+r28UbuRCSBM29K4g+dd4TdiYlaOKx95ctKZnF34qXPZlKRc3/dZ/wqHFrwn1fY0sn5wn/KMcVfR1WP2ayGAXflq43PlbWPFknTx9ajtM+OZCuhUaUpBd5CtEebXmqzVebv3aYGWa3oE3HpB4+T4gDDmZX8m05qs1nkvrnzPVrw2NNq0P9UdTkycT+lOdgEfmYXz34z9ShMW9EMI37Yk/A3pvYKvtuPt3GXqxVWW6rvNxST2pEhmSfi8R187H5y7t9gqKQNNB0zC5fZhU3r0b8fUVacRZIgGoFSo1Fp890xODtnHd0cN78Cqc3DYbz1SgJqmGjPxLPgF6h6S1jh+egmNZU8TY8ktHcQicsQsrtaZREuOpcWGbYjc+1YgZZbao2ysS/Q8ex8omsrrdwe3EvGUMOrUVDa7MS40LLxNjs2f4Cxi64zy7YMbonR9wcXpnBLBFDKXSmbAqleWnQucSIINUVGXw6oC5p65jQlaaWUpp2P2/Vnjxx6tAlZexev8MdPcNQKnZmaQLQIcuLRDMDNKtjNNYFfUsqr7VDy3LZiDux6WYcuC6xCviAbSpWMpGBdun4pVPj0ijxhpPYHzzTPy2eRuys6VjG9zd3SHoAlGrS2uUwkMsLFpkemIiUpmt9vTIQto949EW7Jr7J95g75BYL6b3C4Ttt24WSZOHkxEgg2SHCvEKCYRxAsoktXT4GIwdraceZcJCEWhjUYMdRHGqJPxfnoqFG3/Hi9v+A05sxJQBG/PL5xOJDjPeQkfL99JOVQ57C3N02884K59t+O8mvNt7k2UWAY9jZuw2jLay4MPyphLok7EVQyJ6YpW4HN7Epf+NFa1DsIJ7sYefyK3XcbyT9UVDJZBOiStSKXs0LXH159wF8qyNFzYeRMyi0Xj24foID2QHBrENOH6VI9HqhTGYF7MPO5+s5NxlIOmIABFwGAEaIRUbaj16rb+M+KtXERZmOX4qtmydLWG256jNkJniT3b53sE5m7wOkKfRgr8gLLDMqLRzsSTCfLy6YkVimjgSsrVsuSAbShXzIs/7ToBOajCpAq0KrTUeT9pRJyGYahLJp9yutHLRGo/qt2iciR/x4wRM2xtN2SnrBPkSASJABIiAgwmwUbD1WbsC77TVUABbecpJaIlH8qkDJ37KbLRw4XdqiUf6p8yY+BWNS2nlRyMkdb2hECJABIgAEXAgATJIDoRNWREBIkAEiIA6ATJI6mwohAgQASJABBxIgAySA2FTVkSACBABIqBOgAySOhsKIQJEgAgQAQcSIIPkQNiUFREgAkSACKgTIIOkzoZCiAARIAJEwIEEyCA5EDZlRQSIABEgAuoEdPyLnPyDcuyjfoqxkpOT4evrqxgme8qf9OabBK05pXjmefNr+Rh+OT3zOKZ5kHz56474qWsg6Z8yGyUuSjGV4pm3TdI/JXKSH/FTZmPKxcPWwZ9XNRwOqvVQSHvEY5+7RXp6ulgyrvwpKSkoU6ZM7rVcZB4mx+EGjl97eXmBf2tGzdlDPvO0nY0fyWf7BAatesBZUv2aa5TZBywtg/P5uDo/3rdkZGSID/Tid6yMD/amD/jy37zv4k7ug/R6PTw9Lb/iVJr1z/q5QTaU6X4Ec2N069Yt0cBwl5SUBIPBYPxsuPT5cD6y4uHyj1tg2c+aQbof5aE8iQARcF0C3MikpqaKhyjzPoYbH/nH/UyveVxTwxUcHKxokFyXRtEldzmD9Mfpy1i55QBCKobCr2wgUpJT4X2Of61VVgTxT/4f+0fyy2JGLOPOPTxUuwJ6PtJAPKOMGybZSBUdI6VABIhAaSDADQo3NHxkxEcym2KO43DsFXiV8YMHG/GID8r8YZjDkP40PjxLU+s8OPl2Em5cvoaXu7XCo80iSwM2zWV0OYN0IeEOVh48i7YPeaG6hy9TDDdkpzGDk50jKor44wZJ+gfZ7Pru3WT8dyYOWewJ5bHGVeHt7Z1vVKWZFkUkAkSgVBPgBokbo7S0NHFkdODEBWz48wKq1aoCf39fuPP36Do2Q+OmA/tPfOjlPy93N/YQrIM7s0jn4m7j18Nn0b55/VLNUqnwLmeQvHy84VchHE80rYGOTWuKQ+CUzBwkpfHhMPv+ECslexYRh0ji38wz7totfJ14BxnMSN2+fTt32EzTd0oqQX5EgAioEeD9DZ964++uExMTxT4lvFwgnmoZiSqhwWArxCAu7WLGSGD/8L/5qCjA4AlfL/EKOwP1OHL5NnhfRi4/AZczSG5sus3b24CwAD/UKCctZjh+/hqOHP0Xfv4+8NZ7WdRxUlIyAr318PP2FF9A8qE2VyxyRIAIEIGCEuB9B+9DeF/C+xTet/A+5opCQqnpGbh3NwUdmtRADfaagbvjrO/ifRjvy8jlJ1AiiBz9Jw5TPt2GqlXCEcaeVswdfzAJMXigvL83GSJzOHRNBIhAoQhww8T7FD/PZOz6I5aNliyTuXo9ERfi4lFuaE80iJAMkmUs8pEJlAiD5MlHRcGB6Fg3DM1rhUPPrj3YcsrcKTkhB3o2hxsa6I2gIB/4+PiICxvklXqkDkSACBABLQR4n8H7Dt6H8PfVbRrpUatKKNLZO2z+7og7ccGDuD0lA4fOxOPTe6kQ+yhyNgl4yGve1WJy6Lbi2AqX07ZHvBxW2ebOw9MDZf18UTu8DFrVDGYvF/3FRQt83xF35uv65bX/XHF4+ewpn7lszsaP5DMnYHmtVU/5nVS/pYufPNXP+xA/Pz/UYb+aFbJECPIXhvlUHl/0cPfuXSTeSxb7Jt5HmTvelynpmpKf+b3ydUnTP0tKaiV3EX/+BMOVhRsk/uNOPvlBHjGZ7lNykWKRmESACDgBAd6/yFtGTB9suWim/Yu8Gd8JRHYpEZhRt26TeOdtK45cYkfEc7Ny0oIsKx8Z8V3QskEyHyHZqiF7lsPZ+JmXneQzJ5J3rUUPiB/xM+9f5JV4XH+4fqg53pdZ0zFrYXKaJU3/1GmpUSR/IkAEiAARIALFQIAMUjFApSSJABEgAkSg4ATIIBWUWcpW9PNjhyI2GomdlusrCpqay8ePHfcIW61oQMDnF12+LK5SAI/tY1CVbbTUDVzrtCLrhAR89lgodH6NMfSUfRoK6ZrTVrfdBCudBunaV+jl6Q7dE/Nx8egctNWzoz5eXI2MNdEowxZEmB7Mmu/v+sOxx60meo0di4mvdEBl9YPDi1xBR0c2h84rDN1+uYc9L1SDTl8HA47bp2GbCqcTLmFxq3LQhfTCssRDGF+NHVRbLRqbstnG4Q2voixfJPLCF7ipUqJyHfph2oQJmP1AsEqMgnubln3/YMaBlb3/MfuXXZRMQRc8X/oCqbLYd0/j+/H90blBRQSzPSf6oDBU7/A8hq07nhen4EW07x0bhon1pHv/EO5+8hx82AOCbkls0fIQ4iz0wrPm6/iB64XMjOep8POcdrhoed/PuzOPYU7DYJEld5431in2Fbn6cT9lLYF5W1/RUAILLBbJPxBB/KApXwPbvsT2FPBDG/wC4FP5QTzfLwVpfK9B/FF8t5N1OhUao1eHevBhUVLLNkOgIRJtxk8WkylOeIGs84MuED5+Ohj82GpBrwCEWv8slShTwR1bjejNnksMQQhmqxKv+zEr62aAr3Q8pM3kgjq8hnEdpGgFWa5qLeH8ZdezsgcWU9mZFEq64BsA8VCXO4fxfsfumHj4GlCuDpo/0hihdy5g36/fYmHML9j08c/4rXs5a0VxTBjTj2B3A26xsvj7GY+j8Q8qYt4KegED/Ez1wicCj/RsjcpmDcGznv0eTopYiILfHvsrNsUm5t4nMF1Q6ivo0J+Co9VyR+kcIXkY4FOGGSS/QOjZLyiH/21AVutBWPb5any1+iusGt8LFdlhiGjQFx+wa+63fm4UGltM2aXj/IoheCSiLLyCq6H6G8uxbUwbcRordMNdqQ5SY7FueE88VCkYBtZRBHf8H+YeTZbChFgsbRkKz5CuWLh+MtqGMVMw+ygzQmXgwdNgRsjHz58ZCW+E+DJ57O10egRzI8SMszcC2N/M9PoFIUTj6M98GoVP1eyfGY3H61QUD7H1rd4EHSd8h9h041FN7Gk+lI1CPcdvxv6pz6MBK69H+bp4+KOY3FGYadkNvn5S2ZlhLhanogs8r4Rl4zGDG6M2w7H51An8tm0rfth7HJf2LcDj/jcQt+RTbM/g5UrHf1+9g55sFMXL7FelCdrO2oFLRoGPvtUKnl4h6P3VTszu9gCCmA74dRqBdZev4pcxT6JmoA+8IttjcIzJODRuBz58prkUxvSq3oBZ+OWmwlEAPI8yAcxUMMeNkT/720OHhgHSlgejCIX4n4JeMLnLmhqfkHYY/MWXYtsw/a3oXUM5P4V2sOxUihT3pnHWovkIrP14sNie9GXCUOuVZTgq644x1QoZ/+CrQY+iJtNV98guGLzjcm5+qYdXYHD7huJo1rN8NUS+sgC7k/J0TxzxM907ML2fpe599yp8GgxFDK/TiS2gYzMiMfBS7CuUC0i+RSVQOg2SrjJad+2Cjg9Wh4dfVTTt3gVdG1cvHMs/ZuO5IUuw925ldB05BNGpX+GN1SfFtELFxpuBg28+g2cW/4bMvh/g22UT0fPiOox8ZijWiA2FP4my3j/1NOa8twaGri/jbfaEGVD3IXTr+hiahXijfNM26NS5PSID7N8pC/BHROt2aPtYE/akG4g6jz6Gjm3rIaRQNNJxekofdBy7DDvCemDcrKl4s3YKMzzPIXL0ZsngGNhyfFZcn+/H4a1/6mLgsH5omh6L/ePewCTjtJxp2UMatBDLXqcYyi4WUUEXujBd4IZ1y49/IdUzAA1HT0G3snlNxbv5G1hz4hJSjszD416sTvZ9iB4DZ+IHj0cwa/kiDKt9DTHjX0LPDTfELLwN7F4hCb/PmoN9baIwgO3uT945DyO698Y7N1vhzb7N4X9uD1aMnoODfGaSTRtN7dUXo3/JQLNpq7HuvSfgt3YsHnv9k1wjl696wiPxWI8nMbI6GxVVbognu/TGc5WK+AyvC7DQiw6P1EVZY9+eL39NF+mK7WDSoHFSO/D0Bm8GOLUSL++thuFLFmF8cwPOrngTzeYfN8khHcLSiZhztz46PlIT+tifsPSNqfiBGS2PO7swus8wLD3mi55zV2DJU2G4yO7vMGWHNL1qonujT9ex1L0WL+KT/7WURsfPTMaS6VGo71HJfn2FJk6lPBI7uVaw9rt8+bLVcH4vO4Zd/FlLx17xvvm/40K5ISuEz3YfF26mZIi/FTv+FMq+PF+YuXqrcPz4ceHKlSvCnTt3cuUpjHzCrnFCDXedgE7ThRMmjISkTcKzBjcBdYcI29MyhZNjHuZNVMD4/WJ+WRnnhIUteLPVC/U2pggJJz4R+vi5s/hvCBsS7wps97Zwa97TAlsGIER8c4XFvywsbVdOjI9FJ60yLEw5bNWJtfoVvhsksMkXAU+vEK6o1K9Ufr0QsOKckHltvRAVwMoa3FmYcTldLItw8ychOsRD9Jt+LV0QtowUwtmHNdFklBDD+GVm3hN29q8tlX/VFYvyW5NPLpu9ufD0MpL2Cu9UZXXi11wYFZtmIZecN5cv/ehWYfXnq4VVR66J8XI+7ycwcyDgrd3i9dG3W0s6MnyrcIddZ28cIlTgDGq/Kqy/lyEISb8Iw8M8BQR2E+YmpIiMxPABXwsJTF/u3r0hbOkbIaDMo8LEc4zhphESQxZelPotLD/h8mqhhwdrA+KZ+mY/JuO4c8lCWkqc8Em78gJ8GwmDj6UJwrU1iu1AD3+xHfB21UfP0jTVnX1ThPq8DbYYLxxMS81ra1GfCVc55+SDuXUUfYrV0cVDwtpPVwqfbv1b5CycXS509mT3t5ko/J7FrmWuTPf23OP9laXupSx9Rqq7SVJ7Loz+8b6H90G8L+J9Eu+beB8l91e87+J9GO/LlOpPqz7zewsjn1Ke3E9rvlrjFUa+4nwNUipM/ZULfLpAj4oN6ojlFdgTd5PG7L3Cb/fEa/fLF/FvCptqObUQvQMX5mNy/vR5dl1V8vOqipdaVMsX7moXHudjcfIuK2uzlmhjHFFk+9dGszrsyf3QeRw+ZzLlVK8JHhCnBfWoXi2UPZVeQOo9/qFF53GCsXXopJNhVAXzCgnCrZ9nYPnYN/Ea+2AkstIhliTL9NU3exdWt6749O0WHooKgg5XatRBE70OOZnsOpQdc3U+Hclp7BMpZ8/gNh8pff4Cyn9ukq1nKg79qzJtpypdMQb4VEWbHvnfIWW7RaKp0tTypQvW28GTRjlD2f3yaLRGBGqwKbYTFy/gnywBzcUojGObdijL/srxrMx0J4B9Rz4NXHVyKobB779ZmD/tHbyVcBuprN7YMw+fURX/znVM9xo5ue6ZSFuq/mSbga3bJGfbCWzrpAZ+fAcvk/wzrU1bZZXjivHYYaziBBk7MNGdp5cbyL40y58L2ZdO+PHx/DUTd4K7lCf/250vmBD/kHZqi1cNo/H58peQ931IA9wr12FR7oKt92PLeQzw9/Vkctt+eVOgckiSqP5rtX7lwvGPjBmZmickl1VwY4Q88piJ8XlRBHeki7Nd7NswjAfbui5xZUew+xt1z92NdTJilEyLnetW5TMTxp5cdO7V0LA6Ozn+3Gns/ucuPOrmn8S8tPtH/Bv5KCLds7Bn3AAM//o8Qt9ajX0DG6LsTxNQd8Q6pLoZddGoD2XYeWaijHofiYGnj8iA67Qbe5fHGblzPZL1J2o+9r/+UG4pBfa+q1wtFm+v/EVS6zv9+Y3FwS+3bYS0x+tffobnZT0xSsoXt+hYvUvFMNa73J7M2sHNm8ko37gx053due0tV3dYG5PaIOPC25o5R8EXPp48hpTHvbXvoN/U73Gry2RsXP8M6idtxf86jUEMa8Pipx7kUxOMusfrwlz3BJm9se4Kw0/ue+QjhszUNPeSTmrIT4ZzK53vkNQ0pBD+FcQj5dNx5dgp6W62XPbIn9dzU8qqWAP1+Sq2m7eR07AlWrVsheahbkhmT3xBfPVcIdy9U39h/+8nwWbFCnF3Md4SEYn6ZVhZzx7AXvkF/O2j+P3UbSCwDtpF2ja2VqVj72HiDh/Ekb/PqS5Dt3p/AQIFXXl07/4IvFmeR2ZMw5aEvJFJ2r7ZeKF3N7R76AWsvhWHP3h9s6Xpj7/0NJrWqYu02wnSOwsbIys1cfzrREoLapL0qMz0hetMLX06UrL1KKs0+lBLiPmnnDnhHLpSmemGQjtIZcvI87WDS39j+2Uj62N/4wT/blmVCNRlCzVsuQt/HsMtPoJ6agB6PlAPNTOuI56PNIVCLNIuZN3ZkpHCrROwPjyyfi+FMgK1e3ZHg1mHcHzRq+jt2Q+tz/6AZWeMK+hYeFZgW7z2Qj2s/GQjRgx6H2jviV/nf4BVCU0xev9OzJS+MaiZJX/ZvnbI4xi4Lwj9Dx7HyiYOqMLfl+G1AT/Dl02fyC419AnM+DBKeoI1emaV6YAxr7XE2pnbMebFUXB7qjJurVuGldeZIRr9OgbylY1Fcal7MeaRHvg29CV8fc7yybwoSSvd6x89DYu2/I6BO+ahe52NaN6yHsqnXsD+vSdwSxeKKrPfR/9gAw5UZksh//oH65d/iq61TmL+tpuoyUYNZ3/biBVHG+JhpcSt+bWLQv96n2DCj+/h+bEZGFj+LD6btggxNd7GzpgZ6GDtXtMwpiubxvXByEMhxaMrN/ZgSVQ/bDFTwTvVnsWiCdIEW644wZ2U28HVBhh98DHMrGiMmfMXlr06FGFdK+HYiuU4m82mMnv1wgPMLp2zUe6wypXZlOhRpK75CJ96VcGvi3dBX4np3n+/4eufjqOZhuchT7b9Q3SbPsKkCv3QqeeDCLORLwXbj4ADejP7CeuUKbV4C9/N+xdRU9dgy4KP8W//KZj89G30W37GKK4XWs7/Ht/7vI33vp2JgRs92aq5JzFq8WzMrMVaiJMNchQZswa9if3yuUaV8foH7OE1n6ceke+txc6gcRjzyWpMGJkCoXJjdJ05G0tHdpZWLylmUHBPvi+s2J1nbfxv4x5UXTADC77ZiZiY3fiLrT6r2LYvBo18H5O61kTS1avoOXUq+l9+F2tWjMHL7V7GJ99ugc/E7nhh/bd4Zd3zkNZcFkBaz4YYv3ENckaOx9JlYzAguwxqdB6NVR9NQwf2zslpXMp5xHxz3lKcdg3wofGNT16gXrEdDJ46WmoHxtXfqNwX83sL+GzGdPx2pxyqDp2M9UMaWOah4BP+ynh8sD8Ok3YsxaCEdoj+8AdsPfkmWk/Yio8XbMWIEQo3mXs9HoV32u7A9EObMHlFOCK6PVjwBwrzNOnNqJzIAAAQ6klEQVRaOwF2Mq1VFx8fbzWcB8qrNmxFtEe8NXtPqa6y+/DLH4VTp04JCQkJAvvmfa449sjXtGz50stMFa6dOSkcPntLipKTKGzoXUWAV4TwzIFMoVj4Jf8sDK7YUhgdm6WIXGt5+c3FIp+iVHmeRZLv4FShWsM3hZ9Niq41PXvHcwV+CefWWtUVXgZ7c9GaXj5+yVuEvnyVXb38des08lnRafPy8r6H90G8L+J9ktoqO96XKTnz9JTiyH4u134VCmNaXnqHpN12K8f8+2N0q18fDz36FIYu/Qqrp0djwraLbENtH0Q30TBHoJyqdd/9O7CjTGM8XKX0VV/cth34r0krFBda6+BdL1Q4vKfU6orr1RZJTFN2RdWBZkOxadVNRH+wGl+PiMJy76qo0m0MVs+aIE6vXC1q+gr3xydVQNTcbujhTNM3CnLa3Yu9E4kr2xNf9OkmLvslZ5tA/N0wpivPlz5dsY2GYjghATJIRa4UPcL7Tscm9nOUC396ON5zVGbOlA9b+dZm2Ei0cSaZnFyW0K6v4L0wF3gt79MV36Rl4xsn50niFS8BD1sHYjrbN9v5d+jNHV8ZmpMjINP4LXs2hyvuv2DTlWJUcV8EWyHGvyQrf2bYPA05npK/uZ8tZqbxnY2feVlIPnMikr5Y+ir7ED9LLqWpffBPlWewfof3NfI+OHaSAXgflJaWJvZJvG8ydkX5YPG+TImVkp8lZcmnpOlfiRghcWXIZJWbnJyCxETppF6uJPInzLnScEPk7+8PPz92WCc5IkAEiIAdCHDjw44Dg9zH8CS5IUpOThb7It4n8b5Jfji2Q5YlOglm1K3bpMLsVLZFzFae8v1K8ZROatCzQxPLlwtmm+C88HtCBnzu3YPeKxOebGc8d1kZmchISUVkpfJo2SBCfJLhBkr+lou5vEr5msfh11riORs/83KQfOZE8q6pfpXZaOFSUtsHNyz8xw0QH8n8eSYepy8lwMvHGx5eniKwzMwspGewjcwpGWKfxPsm3keZOzqpIT8RrlfWrZE5QSe99inji0rVKuIUU5ATcZnM0NwRJZXXoKWz88WuszPnnm5cBfWrlhU/EaDXs6++ss8gkCMCRIAIFIQAN0Tp6engo6PNB09j3V9xKFe1IvS+0gnr8pke3HC5sc/GVKrmzz5hUSwfMyuI2C4R1+UMkpCTg3T2BHI3PRM3UjNEyCEBvuj7YDU2V5sj7jM13zp47XoSttxORDp7qklKShLvEa0x+/FREjkiQASIgBYC8uiIGyPel/A+pSwzNk82rILQcsZTHowJyX0Rn4XgfZTcX/G+i/dhvC8jl5+AyxkkfvZhIDuW5VpSCk5duiUaIW5Uwn3ZESMqTpeahmBfPT/7U3zZyEdIfMhN87oqwMibCBABRQKyQeLvqHlfwvsU3reE+elRwV/9bMrEu+z9Nvvxvor3XbwPk89xVcyolHq6nEHy03siMtCA0//F40L8TTZ0zrC6co7Xa3ZWNnzYHtVyhTzMtJTqBhWbCBABGwR4n+JzMxW//HGGnUhueyO8Ozv1PJ2NkHgfxvsycvkJuJxBiigfgKdaRSI9KwcZzNDcYitZfH2tz8+6sblcH8+yqB4qrbLj74/kRQ2kEESACBABrQT4CIf3HbwP4St2G9Vg32Dy80VKZg5ybEz/89GVF3tNYGCLH/RsaMX7MnIubpDqVi0P/mPnH4m/S5cuISTE+ge35XX98uogrkz0/oiaAhEgAgUlwA0S7zt8fHxEw9QmKAgt60rfqrC1+pC/XuB7IfkrA1pQpUze5UZIcjHkEQ7fa2RrhGRukOQPZ9GCBmWlIF8iQASUCZiOkGQDZN6/KN/JXh2w99Z8gYO1zflq95YWf5c1SLxi+Y8/cfARjzUnK4CtJxhraVAYESACRIATkPseuT/R2r/IhovfT06ZgI4fX86tvtqKM77j2NYIhA9F5YpSzkbyVYpnnje/5k8SpumZxzHNg+TLX3fET10DSf+U2ShxUYqpFM+8bZL+KZGj/k+dCj/2Lc9+6JghsvqJuKvsA2RhNg5n1DpktXc8XkiSz7KqtXImfpbsuA/xKxoX4kf8ZAIF7Z9p7KisO+RLBIgAESACDiZABsnBwCk7IkAEiAARUCZABkmZC/kSASJABIiAgwmQQXIwcMqOCBABIkAElAmQQVLmQr5EgAgQASLgYAJkkBwMnLIjAkSACBABZQJkkJS5kC8RIAJEgAg4mICHvGdALV++aclWHFvhctr2jsfTJfksa04rZ+JnyY77EL+icSF+xE8mUND+mUZIyrpDvkSACBABIuBgAuw4JuvH2fFzl2zFkWW+H/FIPnWN0VIfxI/4UftV1wFqH+psiqN/oRGSOm8KIQJEgAgQAQcSIIPkQNiUFREgAkSACKgTIIOkzqaQIemIXzcZ/ds0QEV/b1St1QhhbZ/Cm2uPI7WQKbrkbZkJ+HP2ADT0cwM/AVpXfzh2Soe4u2Rx7CI0Y7Jv/nD0eLAmgpluGPyDULnpY+g5+Tv8nWz1jGO7ZO9SiaRewK6Z0ejZuCbKB7EvPQeVE1n1mEasXKoeCyis9RdIBUyMogPXVgzEg9Ff4Upu55uGazEbsODgbiy4GQNhcMMSjynn5HeY8MooTN9/scSXVWsBdUICNrzcGU99fcLkljRc+vMX8ffD/01CzOZxaKnXaU2y5MZLPYaPuz2BobuvKLLavGsS9v84Ea2IVYnTARoh2bNK7+zElAlrJWNUpw9m/7gPu7+bh8GNAoDMJOD9CVicIH37w57ZOlNaHnFf46mWfUVj5N2qCzpXoWceXj+6HXMwes1JqapavIyPNu/Enk2fYUTrUMlvz1wMWHfDmaryvsmSsPRdvC0bo15j8fGW7di9dg761yuTy+rF9cTqvlVQMWZMBsmecLevxbdXM1mK7Au27y7EqCdao26bPlg8/jlUcGfe8T9hyI6b9szR+dJKS8JNQyN0+jgGV3bNQ+dgYyfifJI6VKIDm3/G2Ww2LecVgefmLsSIbh3waI8B+GjyINR0Z6MiIQlnj/3jUJmcMjPG4Y9/biCiQV1EtIjGZ6um49XHH8MjvYdh5dQ+CObPNyzOf2f/c0rxSaiiEaDH16Lxy3d37J9HcYv76OtgSLPgvLDmLdDQbQUbOaUDh48A/R63Y67OlZQQ3hWL/xyChhXZs44Q61zC3UdpWs7ej9TZrLmx/wwGg4kkGXl/U2tkQ8kAdFm2H11MCGVlSReZacygi3/rUaZS+H2sTcq6uAjQSQ35FN+o+TZoq+1EvxiXIN1pCEWlgGy241+QPs/LXsiG6fhglL1YungO11gLK2vHfM3FVZPPPB6/LuhOaqU0ZD+eb5Z3BdT156d75MBNyEaO/EFiIQc5PJz3KXIPYy0xY5i95dOQZfHIx/b7yfs25PK7ZZ7BZ9O/Mo6cquKJDg015V2a+GWdP4r/Ox2He2djsOyjldIDX7PXsKpHmAUrrVy0xiuO9nHf9E9Dxlq5aI1XGH70TKahorRFScftZDYC4k5ngLch7+W04KGHtze75g/D99LAJ+1MDZK29ClWSSLgnnoGXw58GsN+Mb64f3EGFrXxK0lFtEtZ4le9iSem7pXSCo5Ex3fGYtKoF9EigBZ/2AWwkyVCJzUoVIiWHcj8tvzxsuHHljdLTgd38YlYB77TW8f+zn1Zx67FMLvlq5CQ0UtLOYp1J7rgDjeZCRshuvFy83dpziKfOjoxpNj4XfkV7z8fhYm/xkkSdPkABxb2RVUPaWmmlnyLVT47cLGXfO6sveS6W6exc+lk3HX3xepJz6K2iS6Zikz8lCvQnlzsVb/m9UaLGpTrrhC+ehj8vKT7hDSk8Plu2WWx61Tjta8BIYVInW4pIQRiv8OA9t0lY8Tel3gPXoXTG0ajpS898SvVcJXJ/4fMzEyknvsD64a1Q/Dt8/htahQipx9Sik5+Lk6ADJIdK7B6rcrw5umlXcWJayYGKf4q4tk7FNFFRNB0nR2Zu1RS577HgC79sDL2DuATgQeX/oybi19CbdpPY1GNGTeu4tzl27n+HpUb4akZ76JvCJ9bYFPjm9djf2nfaG1BzfU9yCDZsQ6rPNQcQXwaIf0fbPw9b1Nf5qGDOJzJDBR7Iq7asqkdc6SkXIWAx53fMfWZV7HyHHuR6BOJTt/E4PCrD0kPMK5SCEfImbEXo8K9oC8XjhrtR+Jb0xMs2JaCW/LMAxkjR9SGw/NQepXhcCFKTIZte2BAtUWYdjYNd2YOw9Ryb6FZ0j6snbJWWh1UrTfee7xkT9jp2PRk4j22WpH95yYkIpVdiy4rHYk3biOR7bnJgjsCA8WxZKlxp2a9hel/Gp/42/bGS7qj2Lb5aL7yZ/jURIdHq8O/1FBRKKjXQ+jeqRo++oJtGTizEv37BCI+qj1q57Bjl1Z9iG/vGS3Rg63QROUdkkKq5OUqBAQbLj4+3kYMQWBzvOLPlrN3PJ6fs8mXuGGo0ECv4/N1+X9eEULdr2MVEdmbi9b0ioOfsGucwDZ6WpbflEdAZ2H6tXRFFuaezla/hZEvO+OksLBZsHUmnE+ricLvWfZrR8VRv/Zs56ryXfhBGFyrjDqvGj2FWReyzavC7v2QqnxmOWttb/aOVxLloyk7Oz85BPRaiF+3zkN0xwYIZ6MAz4DyqNphAEb/8DP+eL6WnXOj5FyFQCqtWdBeVVW6Y/G+GKweE4VO9SsgyI/BMwQguG5LPDFqATbvX4+3q1DXpR2o68SkKbtiqKugDsOwhP9Y2levXkVYWFgx5OKcSWa1nYwzWdOsCleQjXVWE3KRwBxdLYw4cA1v2/gYpsjFZC2MixSveMQs1whRH6xmv7yN1FqXLRePQJSqIwjQSQ0mlLV2lFrj8aRLzEkDGrRRKxet8YifMnTiVzQuxM95+dG4V7luyJcIEAEiQAQcTICNgq3P2hXrTn4bhbUlG7+d5FOHSPyU2Wjhwu/UEo/0T5kx8Ssal9LKj0ZI6npDIUSACBABIuBAAmSQHAibsiICRIAIEAF1AmSQ1NlQCBEgAkSACDiQABkkB8KmrIgAESACRECdABkkdTYUQgSIABEgAg4kQAbJgbApKyJABIgAEVAnQAZJnQ2FEAEiQASIgAMJkEFyIGzKiggQASJABNQJ6Phpyjr2mWl2cqxirOTkZPj6+iqGyZ78eBzu+CZBa04pnnne/Do7WzpiXk7PPI5pHiRf/rojfuoaSPqnzEaJi1JMpXjmbZP0T4mc5Ef8lNmYctHxI8yVo0m+Wg4Hlc+GsrWz3d7xuIQkn2XtaeVM/CzZcR/iVzQuxI/4yQQK2j9bH9IocyVfIkAEiAARIAJ2J0AGye5IKUEiQASIABEoDAEySIWhRvcQASJABIiA3QmQQbI7UkqQCBABIkAECkOADFJhqNE9RIAIEAEiYHcCZJDsjpQSJAJEgAgQgcIQIINUGGp0DxEgAkSACNidgIet78vzTUu24tgKl6W2dzyeLslnqRNaORM/S3bch/gVjQvxI34ygYL2zzRCUtYd8iUCRIAIEAEHE2CHK3hYzZIf32MrjpzA/YhH8qlXn5b6IH7Ej9qvug5Q+1BnUxz9C42Q1HlTCBEgAkSACDiQABkkB8KmrIgAESACRECdABkkdTYUQgSIABEgAg4kQAbJgbApKyJABIgAEVAnQAZJnQ2FEAEiQASIgAMJkEFyIGzKiggQASJABNQJkEFSZ0MhRIAIEAEi4EACdFKDCWytO8y1xuNJF3SnsrW615qv1ngknzJt4lc0LsSP+MkECtr//T8YCIFOG9lIogAAAABJRU5ErkJggg==)\n"
   ]
  },
  {
   "cell_type": "code",
   "execution_count": 1,
   "metadata": {
    "colab": {
     "base_uri": "https://localhost:8080/"
    },
    "id": "_yBzNJlq9P8S",
    "outputId": "124fa0c4-86ea-4ed3-ebee-b04a34d33d92"
   },
   "outputs": [
    {
     "name": "stdout",
     "output_type": "stream",
     "text": [
      "Lion\n"
     ]
    }
   ],
   "source": [
    "# Print second item of list\n",
    "animals = [\"Elephant\",\"Lion\",\"Camel\",\"Tiger\"]\n",
    "print(animals[1])"
   ]
  },
  {
   "cell_type": "code",
   "execution_count": 2,
   "metadata": {
    "colab": {
     "base_uri": "https://localhost:8080/"
    },
    "id": "4MCTQ-wldYSN",
    "outputId": "17f79178-0ff5-4f10-af82-f4e5ac7c3d25"
   },
   "outputs": [
    {
     "name": "stdout",
     "output_type": "stream",
     "text": [
      "Tiger\n"
     ]
    }
   ],
   "source": [
    "# Print last item of list\n",
    "animals = [\"Elephant\",\"Lion\",\"Camel\",\"Tiger\"]\n",
    "print(animals[-1])"
   ]
  },
  {
   "cell_type": "code",
   "execution_count": null,
   "metadata": {
    "colab": {
     "base_uri": "https://localhost:8080/"
    },
    "id": "cb2KY6nsdKfp",
    "outputId": "24df7177-42a2-43a4-d5ef-7aaa374e676d"
   },
   "outputs": [
    {
     "name": "stdout",
     "output_type": "stream",
     "text": [
      "['Elephant', 'Lion', 'Camel']\n"
     ]
    }
   ],
   "source": [
    "# Print first 3 items of list\n",
    "animals = [\"Elephant\",\"Lion\",\"Camel\",\"Tiger\"]\n",
    "print(animals[0:3])"
   ]
  },
  {
   "cell_type": "code",
   "execution_count": 3,
   "metadata": {
    "colab": {
     "base_uri": "https://localhost:8080/"
    },
    "id": "kd0htCrNZvK8",
    "outputId": "15810813-172e-4f9e-cd5d-34dd531ce893"
   },
   "outputs": [
    {
     "name": "stdout",
     "output_type": "stream",
     "text": [
      "['Elephant', 'Lion', 'Camel']\n"
     ]
    }
   ],
   "source": [
    "# Start From 0 by Default\n",
    "animals = [\"Elephant\",\"Lion\",\"Camel\",\"Tiger\"]\n",
    "print(animals[:3])"
   ]
  },
  {
   "cell_type": "code",
   "execution_count": null,
   "metadata": {
    "colab": {
     "base_uri": "https://localhost:8080/"
    },
    "id": "5ZPJjx3oZvQk",
    "outputId": "54d368dc-7939-4094-fccc-5c42c8ad2b18"
   },
   "outputs": [
    {
     "name": "stdout",
     "output_type": "stream",
     "text": [
      "['Camel', 'Tiger']\n"
     ]
    }
   ],
   "source": [
    "# End to -1 by Default\n",
    "animals = [\"Elephant\",\"Lion\",\"Camel\",\"Tiger\"]\n",
    "print(animals[2:])"
   ]
  },
  {
   "cell_type": "markdown",
   "metadata": {
    "id": "DjkNKRvLf1M5"
   },
   "source": [
    "## Change Item Value"
   ]
  },
  {
   "cell_type": "code",
   "execution_count": null,
   "metadata": {
    "colab": {
     "base_uri": "https://localhost:8080/"
    },
    "id": "6y16Zx6Nf30i",
    "outputId": "0f15712f-c1f8-4543-a48a-d6c82aedb643"
   },
   "outputs": [
    {
     "name": "stdout",
     "output_type": "stream",
     "text": [
      "animals before change= ['Elephant', 'Lion', 'Camel', 'Tiger']\n",
      "animals after change= ['Elephant', 'Zebra', 'Camel', 'Tiger']\n"
     ]
    }
   ],
   "source": [
    "# change \"Lion\" to \"Zebra\"\n",
    "animals = [\"Elephant\",\"Lion\",\"Camel\",\"Tiger\"]\n",
    "print(\"animals before change=\", animals)\n",
    "\n",
    "animals[1]=\"Zebra\"\n",
    "print(\"animals after change=\", animals)"
   ]
  },
  {
   "cell_type": "markdown",
   "metadata": {
    "id": "bjAGl3k9gvpc"
   },
   "source": [
    "## Change Multiple Item Values at a time"
   ]
  },
  {
   "cell_type": "code",
   "execution_count": null,
   "metadata": {
    "colab": {
     "base_uri": "https://localhost:8080/"
    },
    "id": "jO56TH7JgyPj",
    "outputId": "fbef5fc8-1223-4d04-c919-e92589b31a8d"
   },
   "outputs": [
    {
     "name": "stdout",
     "output_type": "stream",
     "text": [
      "animals before change= ['Elephant', 'Lion', 'Camel', 'Tiger']\n",
      "animals after change= ['Elephant', 'Zebra', 'Monkey', 'Tiger']\n"
     ]
    }
   ],
   "source": [
    "# change \"Lion\" and \"Camel\" to \"Zebra\" and \"Monkey\"\n",
    "animals = [\"Elephant\",\"Lion\",\"Camel\",\"Tiger\"]\n",
    "print(\"animals before change=\", animals)\n",
    "\n",
    "animals[1:3]=[\"Zebra\",\"Monkey\"]\n",
    "print(\"animals after change=\", animals)"
   ]
  },
  {
   "cell_type": "markdown",
   "metadata": {
    "id": "EacS00XdhQnv"
   },
   "source": [
    "# Insert Items in list"
   ]
  },
  {
   "cell_type": "markdown",
   "metadata": {
    "id": "z_CBSdtxkFp1"
   },
   "source": [
    " <h4> 1. Append : At Last </h4>\n",
    "- Append method will add one element at the end of list"
   ]
  },
  {
   "cell_type": "code",
   "execution_count": 4,
   "metadata": {
    "colab": {
     "base_uri": "https://localhost:8080/"
    },
    "id": "Qezda3zahRzo",
    "outputId": "e7504280-5be1-40b5-aa58-ff89be7f1a1e"
   },
   "outputs": [
    {
     "name": "stdout",
     "output_type": "stream",
     "text": [
      "['Elephant', 'Lion', 'Camel', 'Tiger', 'Zebra']\n"
     ]
    }
   ],
   "source": [
    "# Add \"Zebra\" at the end of list\n",
    "animals = [\"Elephant\",\"Lion\",\"Camel\",\"Tiger\"]\n",
    "\n",
    "animals.append(\"Zebra\")\n",
    "\n",
    "print(animals)"
   ]
  },
  {
   "cell_type": "code",
   "execution_count": null,
   "metadata": {
    "colab": {
     "base_uri": "https://localhost:8080/"
    },
    "id": "nHzTi6o7hkn1",
    "outputId": "85fc0260-a7b1-4cdb-edf5-562ed3c7588b"
   },
   "outputs": [
    {
     "name": "stdout",
     "output_type": "stream",
     "text": [
      "['Elephant', 'Lion', 'Camel', 'Tiger', ['Zebra', 'Monkey']]\n"
     ]
    }
   ],
   "source": [
    "# Add list of [\"Zebra\",\"Monkey\"] at the end of list, You can notice list is added as one element at the end\n",
    "animals = [\"Elephant\",\"Lion\",\"Camel\",\"Tiger\"]\n",
    "\n",
    "animals.append([\"Zebra\",\"Monkey\"])\n",
    "print(animals)"
   ]
  },
  {
   "cell_type": "markdown",
   "metadata": {
    "id": "l-5stXLcigqa"
   },
   "source": [
    "<h4> 2. Extend : Add multiple Items At Last </h4>"
   ]
  },
  {
   "cell_type": "code",
   "execution_count": 5,
   "metadata": {
    "colab": {
     "base_uri": "https://localhost:8080/"
    },
    "id": "-alJzjckZvT-",
    "outputId": "c0c9d03f-13ba-4138-c285-347112b5d539"
   },
   "outputs": [
    {
     "name": "stdout",
     "output_type": "stream",
     "text": [
      "['Elephant', 'Lion', 'Camel', 'Tiger', 'Zebra', 'Monkey']\n"
     ]
    }
   ],
   "source": [
    "# Add \"Zebra\" and \"Monkey\" at the end of list\n",
    "animals = [\"Elephant\",\"Lion\",\"Camel\",\"Tiger\"]\n",
    "\n",
    "animals.extend([\"Zebra\",\"Monkey\"])\n",
    "\n",
    "print(animals)"
   ]
  },
  {
   "cell_type": "markdown",
   "metadata": {
    "id": "ZPsJeSSGh3XZ"
   },
   "source": [
    "<h4> 3. Insert: Item At Specified Position </h4>\n"
   ]
  },
  {
   "cell_type": "code",
   "execution_count": null,
   "metadata": {
    "colab": {
     "base_uri": "https://localhost:8080/"
    },
    "id": "x2bsC0phfuAQ",
    "outputId": "9da74b8b-757a-4125-8241-3633900d23a6"
   },
   "outputs": [
    {
     "name": "stdout",
     "output_type": "stream",
     "text": [
      "['Elephant', 'Zebra', 'Lion', 'Camel', 'Tiger']\n"
     ]
    }
   ],
   "source": [
    "# Insert Zebra at Index 1\n",
    "animals = [\"Elephant\",\"Lion\",\"Camel\",\"Tiger\"]\n",
    "\n",
    "animals.insert(1, \"Zebra\")\n",
    "\n",
    "print(animals)"
   ]
  },
  {
   "cell_type": "markdown",
   "metadata": {
    "id": "ndS9fKi2jDk1"
   },
   "source": [
    "# Remove Items"
   ]
  },
  {
   "cell_type": "markdown",
   "metadata": {
    "id": "TRGbgKP8kkpY"
   },
   "source": [
    "<h4> 1. remove(): Remove Item Using Value </h4>"
   ]
  },
  {
   "cell_type": "code",
   "execution_count": null,
   "metadata": {
    "colab": {
     "base_uri": "https://localhost:8080/"
    },
    "id": "bhpv0BLskgHZ",
    "outputId": "3b6af208-a6e5-45d9-ca57-324a6c73176a"
   },
   "outputs": [
    {
     "name": "stdout",
     "output_type": "stream",
     "text": [
      "['Elephant', 'Lion', 'Tiger']\n"
     ]
    }
   ],
   "source": [
    "# Remove \"Camel\" from list\n",
    "animals = [\"Elephant\",\"Lion\",\"Camel\",\"Tiger\"]\n",
    "\n",
    "animals.remove(\"Camel\")\n",
    "\n",
    "print(animals)"
   ]
  },
  {
   "cell_type": "markdown",
   "metadata": {
    "id": "3iYJxwOFk6uc"
   },
   "source": [
    "<h4> 2. pop(): Remove Item Using Index </h4>\n",
    "\n",
    "* pop() methods takes index as input to remove items\n",
    "* If no index provided then pop will remove last item of list\n",
    "\n",
    "\n",
    "\n"
   ]
  },
  {
   "cell_type": "code",
   "execution_count": null,
   "metadata": {
    "colab": {
     "base_uri": "https://localhost:8080/"
    },
    "id": "Ac3EZmOzk4Bj",
    "outputId": "000d4b4c-196e-427b-b7a4-cb8383c67417"
   },
   "outputs": [
    {
     "name": "stdout",
     "output_type": "stream",
     "text": [
      "['Elephant', 'Lion', 'Tiger']\n"
     ]
    }
   ],
   "source": [
    "# Remove \"Camel\" from list\n",
    "animals = [\"Elephant\",\"Lion\",\"Camel\",\"Tiger\"]\n",
    "\n",
    "animals.pop(2)\n",
    "\n",
    "print(animals)"
   ]
  },
  {
   "cell_type": "code",
   "execution_count": 6,
   "metadata": {
    "colab": {
     "base_uri": "https://localhost:8080/"
    },
    "id": "c-b3CINLlamV",
    "outputId": "148c07da-25ee-4cc7-8d3d-7acab133582c"
   },
   "outputs": [
    {
     "name": "stdout",
     "output_type": "stream",
     "text": [
      "['Elephant', 'Lion', 'Camel']\n"
     ]
    }
   ],
   "source": [
    "# pop without index will remove last item\n",
    "animals = [\"Elephant\",\"Lion\",\"Camel\",\"Tiger\"]\n",
    "\n",
    "animals.pop()\n",
    "\n",
    "print(animals)"
   ]
  },
  {
   "cell_type": "markdown",
   "metadata": {
    "id": "dgnPYodelhMt"
   },
   "source": [
    "<h4> 3. clear(): Clear All Items Of List </h4>\n",
    "\n",
    "* It remove all items of list and empties the list"
   ]
  },
  {
   "cell_type": "code",
   "execution_count": null,
   "metadata": {
    "colab": {
     "base_uri": "https://localhost:8080/"
    },
    "id": "k0-PrI1OmYBa",
    "outputId": "44bd0f0b-28f6-4a0a-a569-f7b53a35b643"
   },
   "outputs": [
    {
     "name": "stdout",
     "output_type": "stream",
     "text": [
      "[]\n"
     ]
    }
   ],
   "source": [
    "# Clear a list\n",
    "animals = [\"Elephant\",\"Lion\",\"Camel\",\"Tiger\"]\n",
    "\n",
    "animals.clear()\n",
    "\n",
    "print(animals)"
   ]
  },
  {
   "cell_type": "markdown",
   "metadata": {
    "id": "KOE336CxmfvI"
   },
   "source": [
    "# Sorting"
   ]
  },
  {
   "cell_type": "code",
   "execution_count": null,
   "metadata": {
    "colab": {
     "base_uri": "https://localhost:8080/"
    },
    "id": "9Pw0fppJm8_p",
    "outputId": "6ac3ea3e-7c23-4c14-a0a5-68ee4412c5f9"
   },
   "outputs": [
    {
     "name": "stdout",
     "output_type": "stream",
     "text": [
      "['Camel', 'Elephant', 'Lion', 'Tiger']\n"
     ]
    }
   ],
   "source": [
    "# Sort the list ascending: By default is ascending\n",
    "animals = [\"Elephant\",\"Lion\",\"Camel\",\"Tiger\"]\n",
    "\n",
    "animals.sort()\n",
    "\n",
    "print(animals)\n"
   ]
  },
  {
   "cell_type": "code",
   "execution_count": null,
   "metadata": {
    "colab": {
     "base_uri": "https://localhost:8080/"
    },
    "id": "5ud4YWfAnFzK",
    "outputId": "bee0856d-f4c1-4c96-9b86-cf394de1e270"
   },
   "outputs": [
    {
     "name": "stdout",
     "output_type": "stream",
     "text": [
      "['Tiger', 'Lion', 'Elephant', 'Camel']\n"
     ]
    }
   ],
   "source": [
    "# Sort the list descending\n",
    "animals = [\"Elephant\",\"Lion\",\"Camel\",\"Tiger\"]\n",
    "\n",
    "animals.sort(reverse=True)\n",
    "\n",
    "print(animals)"
   ]
  },
  {
   "cell_type": "code",
   "execution_count": null,
   "metadata": {
    "colab": {
     "base_uri": "https://localhost:8080/"
    },
    "id": "bq24XDS_nsVq",
    "outputId": "1bc7a0fd-8aab-474b-ce42-c0e189004d9a"
   },
   "outputs": [
    {
     "name": "stdout",
     "output_type": "stream",
     "text": [
      "[1, 2, 3, 4, 5]\n"
     ]
    }
   ],
   "source": [
    "# Sort numerical list: ascending\n",
    "num_list = [5,2,3,1,4]\n",
    "num_list.sort()\n",
    "\n",
    "print(num_list)"
   ]
  },
  {
   "cell_type": "code",
   "execution_count": null,
   "metadata": {
    "colab": {
     "base_uri": "https://localhost:8080/"
    },
    "id": "LyrIuXaYn7-9",
    "outputId": "0bd56fda-a561-4960-c96e-2292966ec269"
   },
   "outputs": [
    {
     "name": "stdout",
     "output_type": "stream",
     "text": [
      "[5, 4, 3, 2, 1]\n"
     ]
    }
   ],
   "source": [
    "# Sort numerical list: descending\n",
    "num_list = [5,2,3,1,4]\n",
    "num_list.sort(reverse=True)\n",
    "\n",
    "print(num_list)"
   ]
  },
  {
   "cell_type": "markdown",
   "metadata": {
    "id": "Inxfo2tboLI1"
   },
   "source": [
    "# List Methods\n"
   ]
  },
  {
   "cell_type": "markdown",
   "metadata": {
    "id": "2LD4sHMToREC"
   },
   "source": [
    "<h3>\n",
    "1. append()\tAdds an element at the end of the list <br>\n",
    "2. clear()\tRemoves all the elements from the list <br>\n",
    "3. copy()\tReturns a copy of the list <br>\n",
    "4. count()\tReturns the number of elements with the specified value <br>\n",
    "5. extend()\tAdd the elements of a list (or any iterable), to the end of the current list <br>\n",
    "6. index()\tReturns the index of the first element with the specified value <br>\n",
    "7. insert()\tAdds an element at the specified position <br>\n",
    "8. pop()\tRemoves the element at the specified position <br>\n",
    "9. remove()\tRemoves the item with the specified value <br>\n",
    "10. reverse()\tReverses the order of the list <br>\n",
    "11. sort()\tSorts the list </h3>"
   ]
  },
  {
   "cell_type": "markdown",
   "metadata": {
    "id": "zttFzXMk3ixI"
   },
   "source": [
    "## List comprehension\n",
    "- It is shorter syntax when you want to create a new list from another existing list.\n",
    "- Without list comprehension you will have to write <b>for</b> loop"
   ]
  },
  {
   "cell_type": "code",
   "execution_count": null,
   "metadata": {
    "colab": {
     "base_uri": "https://localhost:8080/"
    },
    "id": "Vg-NQ-j940k1",
    "outputId": "478b2472-b114-4c8f-ffa1-bd4d35e7af03"
   },
   "outputs": [
    {
     "name": "stdout",
     "output_type": "stream",
     "text": [
      "[1, 2, 3, 4, 6]\n"
     ]
    }
   ],
   "source": [
    "# with for loop\n",
    "# transfer all elements of list_1 to list_2\n",
    "list_1  = [1,2,3,4,6]\n",
    "list_2 = []\n",
    "for element in list_1:\n",
    "  list_2.append(element)\n",
    "\n",
    "print(list_2)"
   ]
  },
  {
   "cell_type": "code",
   "execution_count": null,
   "metadata": {
    "colab": {
     "base_uri": "https://localhost:8080/"
    },
    "id": "UPZpVAI93lDQ",
    "outputId": "717b2136-1289-4aa4-9ca6-eeec84d4cb25"
   },
   "outputs": [
    {
     "name": "stdout",
     "output_type": "stream",
     "text": [
      "[1, 2, 3, 4, 6]\n"
     ]
    }
   ],
   "source": [
    "# with list comprehension\n",
    "# transfer all elements of list_1 to list_2\n",
    "list_1  = [1,2,3,4,6]\n",
    "\n",
    "list_2 = [i for i in list_1]\n",
    "print(list_2)"
   ]
  },
  {
   "cell_type": "code",
   "execution_count": null,
   "metadata": {
    "colab": {
     "base_uri": "https://localhost:8080/"
    },
    "id": "WYOLWlW2WSCN",
    "outputId": "0f8773bd-7717-47a7-bd9e-6ceb78cd109b"
   },
   "outputs": [
    {
     "name": "stdout",
     "output_type": "stream",
     "text": [
      "[0, 1, 2, 3, 4, 5, 6, 7, 8, 9, 10]\n",
      "[6, 7, 8, 9, 10]\n"
     ]
    }
   ],
   "source": [
    "# create a list_1 using list comprehension having elements from 0 to 10\n",
    "# create list_2 for elements in list_1 which are greater than 5\n",
    "list_1 = [i for i in range(11)]\n",
    "print(list_1)\n",
    "\n",
    "list_2 = [i for i in list_1 if i>5]\n",
    "print(list_2)"
   ]
  },
  {
   "cell_type": "code",
   "execution_count": null,
   "metadata": {
    "colab": {
     "base_uri": "https://localhost:8080/"
    },
    "id": "vXqc-UQ4XbIP",
    "outputId": "429730f2-b306-4ce1-f33c-ce4e9987a68b"
   },
   "outputs": [
    {
     "name": "stdout",
     "output_type": "stream",
     "text": [
      "['APPLE', 'BANANA', 'CHERRY', 'KIWI', 'MANGO']\n"
     ]
    }
   ],
   "source": [
    "# create newlist containing upper case of elements of fruits\n",
    "fruits = [\"apple\", \"banana\", \"cherry\", \"kiwi\", \"mango\"]\n",
    "\n",
    "newlist = [x.upper() for x in fruits]\n",
    "\n",
    "print(newlist)"
   ]
  },
  {
   "cell_type": "markdown",
   "metadata": {
    "id": "GOhe4rd_ozhD"
   },
   "source": [
    "# Exercise"
   ]
  },
  {
   "cell_type": "markdown",
   "metadata": {
    "id": "HYFWfc09o1pw"
   },
   "source": [
    "### 1. Reverse the list items"
   ]
  },
  {
   "cell_type": "code",
   "execution_count": 1,
   "metadata": {
    "colab": {
     "base_uri": "https://localhost:8080/"
    },
    "id": "Xfork0DRo5TH",
    "outputId": "a2cda5a0-6556-4615-9215-b6824a19326e"
   },
   "outputs": [
    {
     "name": "stdout",
     "output_type": "stream",
     "text": [
      "[5, 4, 3, 2, 1]\n"
     ]
    }
   ],
   "source": [
    "numbers = [1,2,3,4,5]\n",
    "numbers.reverse()\n",
    "print(numbers)"
   ]
  },
  {
   "cell_type": "markdown",
   "metadata": {
    "id": "PvD7sbuspGKr"
   },
   "source": [
    "### 2. Count of \"Banana\""
   ]
  },
  {
   "cell_type": "code",
   "execution_count": null,
   "metadata": {
    "colab": {
     "base_uri": "https://localhost:8080/"
    },
    "id": "wGVg-KqKpOg3",
    "outputId": "8f3fc480-17a0-44f1-c21f-7a088750779f"
   },
   "outputs": [
    {
     "data": {
      "text/plain": [
       "2"
      ]
     },
     "execution_count": 31,
     "metadata": {},
     "output_type": "execute_result"
    }
   ],
   "source": [
    "fruits = [\"Mango\",\"Apple\",\"Banana\",\"Cherry\",\"Banana\"]\n",
    "\n",
    "fruits.count(\"Banana\")"
   ]
  },
  {
   "cell_type": "markdown",
   "metadata": {
    "id": "UrIi2fanpe_T"
   },
   "source": [
    "### 3. Find index of Cherry"
   ]
  },
  {
   "cell_type": "code",
   "execution_count": null,
   "metadata": {
    "colab": {
     "base_uri": "https://localhost:8080/"
    },
    "id": "k3HEEAOco09A",
    "outputId": "1c59795a-06aa-40b6-beb2-af4d560e05dd"
   },
   "outputs": [
    {
     "data": {
      "text/plain": [
       "3"
      ]
     },
     "execution_count": 32,
     "metadata": {},
     "output_type": "execute_result"
    }
   ],
   "source": [
    "fruits = [\"Mango\",\"Apple\",\"Banana\",\"Cherry\",\"Banana\"]\n",
    "\n",
    "fruits.index(\"Cherry\")"
   ]
  }
 ],
 "metadata": {
  "colab": {
   "collapsed_sections": [
    "twOxJHIWBnrB",
    "fphfQZ60bE4M",
    "DjkNKRvLf1M5",
    "bjAGl3k9gvpc",
    "EacS00XdhQnv",
    "ndS9fKi2jDk1",
    "KOE336CxmfvI",
    "PvD7sbuspGKr"
   ],
   "provenance": []
  },
  "kernelspec": {
   "display_name": "Python 3 (ipykernel)",
   "language": "python",
   "name": "python3"
  },
  "language_info": {
   "codemirror_mode": {
    "name": "ipython",
    "version": 3
   },
   "file_extension": ".py",
   "mimetype": "text/x-python",
   "name": "python",
   "nbconvert_exporter": "python",
   "pygments_lexer": "ipython3",
   "version": "3.11.5"
  }
 },
 "nbformat": 4,
 "nbformat_minor": 1
}
